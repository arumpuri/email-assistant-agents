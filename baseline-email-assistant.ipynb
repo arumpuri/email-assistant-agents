{
 "cells": [
  {
   "cell_type": "markdown",
   "id": "6da7451a-5c3e-40f6-8026-90d081641e9f",
   "metadata": {},
   "source": [
    "# Baseline Email Assistant\n",
    "\n",
    "This email assistant does:\n",
    "- Classifies incoming messages (respond, ignore, notify)\n",
    "- Drafts responses\n",
    "- Schedules meetings\n",
    "\n",
    "\n",
    "\n",
    "![Memory Course App](./img/memory_course_email.png)\n"
   ]
  },
  {
   "cell_type": "markdown",
   "id": "789c5e0e-eb8a-4b1d-860d-c58b742292ce",
   "metadata": {},
   "source": [
    "## Load API tokens for our 3rd party APIs"
   ]
  },
  {
   "cell_type": "code",
   "execution_count": 1,
   "id": "d88cbc41-1acd-436e-9184-1ce5bc95bb9b",
   "metadata": {
    "height": 64
   },
   "outputs": [],
   "source": [
    "import os\n",
    "from dotenv import load_dotenv\n",
    "_ = load_dotenv()"
   ]
  },
  {
   "cell_type": "markdown",
   "id": "5138f1ec-689d-46a5-a99e-a5bd5a659a32",
   "metadata": {},
   "source": [
    "## Setup a Profile, Prompt and Example Email"
   ]
  },
  {
   "cell_type": "code",
   "execution_count": 2,
   "id": "6f03a2a0-41ff-4982-bf99-e15ce9361205",
   "metadata": {
    "height": 113
   },
   "outputs": [],
   "source": [
    "profile = {\n",
    "    \"name\": \"John\",\n",
    "    \"full_name\": \"John Doe\",\n",
    "    \"user_profile_background\": \"Senior software engineer leading a team of 5 developers\",\n",
    "}"
   ]
  },
  {
   "cell_type": "code",
   "execution_count": 3,
   "id": "c7116293-3dc5-403c-979d-7e09dd1b74d8",
   "metadata": {
    "height": 164
   },
   "outputs": [],
   "source": [
    "prompt_instructions = {\n",
    "    \"triage_rules\": {\n",
    "        \"ignore\": \"Marketing newsletters, spam emails, mass company announcements\",\n",
    "        \"notify\": \"Team member out sick, build system notifications, project status updates\",\n",
    "        \"respond\": \"Direct questions from team members, meeting requests, critical bug reports\",\n",
    "    },\n",
    "    \"agent_instructions\": \"Use these tools when appropriate to help manage John's tasks efficiently.\"\n",
    "}"
   ]
  },
  {
   "cell_type": "code",
   "execution_count": 4,
   "id": "673d5316-bbc1-4b27-8e0f-db407725134a",
   "metadata": {
    "height": 317
   },
   "outputs": [],
   "source": [
    "# Example incoming email\n",
    "email = {\n",
    "    \"from\": \"Alice Smith <alice.smith@company.com>\",\n",
    "    \"to\": \"John Doe <john.doe@company.com>\",\n",
    "    \"subject\": \"Quick question about API documentation\",\n",
    "    \"body\": \"\"\"\n",
    "Hi John,\n",
    "\n",
    "I was reviewing the API documentation for the new authentication service and noticed a few endpoints seem to be missing from the specs. Could you help clarify if this was intentional or if we should update the docs?\n",
    "\n",
    "Specifically, I'm looking at:\n",
    "- /auth/refresh\n",
    "- /auth/validate\n",
    "\n",
    "Thanks!\n",
    "Alice\"\"\",\n",
    "}"
   ]
  },
  {
   "cell_type": "markdown",
   "id": "7e80d329-563a-4824-9e76-2588edacfb6e",
   "metadata": {},
   "source": [
    "## Define the first part of the agent - triage."
   ]
  },
  {
   "cell_type": "code",
   "execution_count": 5,
   "id": "499fbd0e-3fcc-400d-afc8-7f0729382a8d",
   "metadata": {
    "height": 64
   },
   "outputs": [],
   "source": [
    "from pydantic import BaseModel, Field\n",
    "from typing_extensions import TypedDict, Literal, Annotated\n",
    "from langchain.chat_models import init_chat_model"
   ]
  },
  {
   "cell_type": "code",
   "execution_count": 6,
   "id": "8bcbd7bd-a6b2-429d-b29c-b1fb7ba7472d",
   "metadata": {
    "height": 30
   },
   "outputs": [],
   "source": [
    "llm = init_chat_model(\"openai:gpt-4o-mini\")"
   ]
  },
  {
   "cell_type": "code",
   "execution_count": 7,
   "id": "abc57143-856c-4a86-a234-ef8355166b3d",
   "metadata": {
    "height": 215
   },
   "outputs": [],
   "source": [
    "class Router(BaseModel):\n",
    "    \"\"\"Analyze the unread email and route it according to its content.\"\"\"\n",
    "\n",
    "    reasoning: str = Field(\n",
    "        description=\"Step-by-step reasoning behind the classification.\"\n",
    "    )\n",
    "    classification: Literal[\"ignore\", \"respond\", \"notify\"] = Field(\n",
    "        description=\"The classification of an email: 'ignore' for irrelevant emails, \"\n",
    "        \"'notify' for important information that doesn't need a response, \"\n",
    "        \"'respond' for emails that need a reply\",\n",
    "    )"
   ]
  },
  {
   "cell_type": "code",
   "execution_count": 8,
   "id": "b4917430-3aae-44c6-954f-68e5372fcf81",
   "metadata": {
    "height": 30
   },
   "outputs": [],
   "source": [
    "llm_router = llm.with_structured_output(Router)"
   ]
  },
  {
   "cell_type": "code",
   "execution_count": 9,
   "id": "59525b9b-5f70-4bef-806a-30bdce14248e",
   "metadata": {
    "height": 30
   },
   "outputs": [],
   "source": [
    "from prompts import triage_system_prompt, triage_user_prompt"
   ]
  },
  {
   "cell_type": "code",
   "execution_count": 11,
   "id": "3137c130-8880-4426-8f11-770393087627",
   "metadata": {
    "height": 64
   },
   "outputs": [
    {
     "name": "stdout",
     "output_type": "stream",
     "text": [
      "\n",
      "< Role >\n",
      "You are {full_name}'s executive assistant. You are a top-notch executive assistant who cares about {name} performing as well as possible.\n",
      "</ Role >\n",
      "\n",
      "< Background >\n",
      "{user_profile_background}. \n",
      "</ Background >\n",
      "\n",
      "< Instructions >\n",
      "\n",
      "{name} gets lots of emails. Your job is to categorize each email into one of three categories:\n",
      "\n",
      "1. IGNORE - Emails that are not worth responding to or tracking\n",
      "2. NOTIFY - Important information that {name} should know about but doesn't require a response\n",
      "3. RESPOND - Emails that need a direct response from {name}\n",
      "\n",
      "Classify the below email into one of these categories.\n",
      "\n",
      "</ Instructions >\n",
      "\n",
      "< Rules >\n",
      "Emails that are not worth responding to:\n",
      "{triage_no}\n",
      "\n",
      "There are also other things that {name} should know about, but don't require an email response. For these, you should notify {name} (using the `notify` response). Examples of this include:\n",
      "{triage_notify}\n",
      "\n",
      "Emails that are worth responding to:\n",
      "{triage_email}\n",
      "</ Rules >\n",
      "\n",
      "< Few shot examples >\n",
      "{examples}\n",
      "</ Few shot examples >\n",
      "\n",
      "\n",
      "Please determine how to handle the below email thread:\n",
      "\n",
      "From: {author}\n",
      "To: {to}\n",
      "Subject: {subject}\n",
      "{email_thread}\n"
     ]
    }
   ],
   "source": [
    "# uncomment to view\n",
    "print(triage_system_prompt)\n",
    "print(triage_user_prompt)"
   ]
  },
  {
   "cell_type": "code",
   "execution_count": 12,
   "id": "ba0a5975-a685-4f07-b43f-9e05ba96cda1",
   "metadata": {
    "height": 181
   },
   "outputs": [],
   "source": [
    "system_prompt = triage_system_prompt.format(\n",
    "    full_name=profile[\"full_name\"],\n",
    "    name=profile[\"name\"],\n",
    "    examples=None,\n",
    "    user_profile_background=profile[\"user_profile_background\"],\n",
    "    triage_no=prompt_instructions[\"triage_rules\"][\"ignore\"],\n",
    "    triage_notify=prompt_instructions[\"triage_rules\"][\"notify\"],\n",
    "    triage_email=prompt_instructions[\"triage_rules\"][\"respond\"],\n",
    ")"
   ]
  },
  {
   "cell_type": "code",
   "execution_count": 13,
   "id": "28642bb7-145d-4561-9bfd-b15332d0b171",
   "metadata": {
    "height": 115
   },
   "outputs": [],
   "source": [
    "user_prompt = triage_user_prompt.format(\n",
    "    author=email[\"from\"],\n",
    "    to=email[\"to\"],\n",
    "    subject=email[\"subject\"],\n",
    "    email_thread=email[\"body\"],\n",
    ")"
   ]
  },
  {
   "cell_type": "code",
   "execution_count": 14,
   "id": "dbcfd44f-4142-4e58-a5e0-5ddd178ade90",
   "metadata": {
    "height": 115
   },
   "outputs": [],
   "source": [
    "result = llm_router.invoke(\n",
    "    [\n",
    "        {\"role\": \"system\", \"content\": system_prompt},\n",
    "        {\"role\": \"user\", \"content\": user_prompt},\n",
    "    ]\n",
    ")"
   ]
  },
  {
   "cell_type": "code",
   "execution_count": 15,
   "id": "38da4397-517b-4d05-af08-4a83264d73f6",
   "metadata": {
    "height": 30
   },
   "outputs": [
    {
     "name": "stdout",
     "output_type": "stream",
     "text": [
      "reasoning=\"The email is requesting clarification on specific endpoints in the API documentation, which is a direct question from a team member (Alice). Since this requires John's expertise to respond and clarify whether the missing endpoints were intentional or if the documentation needs to be updated, it falls under the category of emails that necessitate a direct response. Therefore, it should be classified as 'respond'.\" classification='respond'\n"
     ]
    }
   ],
   "source": [
    "print(result)"
   ]
  },
  {
   "cell_type": "markdown",
   "id": "384d952a-6a39-4710-afa9-54c734c0d87b",
   "metadata": {},
   "source": [
    "## Main agent, define tools"
   ]
  },
  {
   "cell_type": "code",
   "execution_count": 16,
   "id": "9fb152b1-01dc-4a26-870b-463e7f72a8cb",
   "metadata": {
    "height": 30
   },
   "outputs": [],
   "source": [
    "from langchain_core.tools import tool"
   ]
  },
  {
   "cell_type": "code",
   "execution_count": 17,
   "id": "ec4884fc-cc9b-48e8-a8e7-cca1a1874ed9",
   "metadata": {
    "height": 98
   },
   "outputs": [],
   "source": [
    "@tool\n",
    "def write_email(to: str, subject: str, content: str) -> str:\n",
    "    \"\"\"Write and send an email.\"\"\"\n",
    "    # Placeholder response - in real app would send email\n",
    "    return f\"Email sent to {to} with subject '{subject}'\""
   ]
  },
  {
   "cell_type": "code",
   "execution_count": 18,
   "id": "8af7d49c-d85b-41cd-8f3d-8f239e4fe255",
   "metadata": {
    "height": 232
   },
   "outputs": [],
   "source": [
    "@tool\n",
    "def schedule_meeting(\n",
    "    attendees: list[str], \n",
    "    subject: str, \n",
    "    duration_minutes: int, \n",
    "    preferred_day: str\n",
    ") -> str:\n",
    "    \"\"\"Schedule a calendar meeting.\"\"\"\n",
    "    # Placeholder response - in real app would check calendar and schedule\n",
    "    return f\"Meeting '{subject}' scheduled for {preferred_day} with {len(attendees)} attendees\"\n",
    "\n"
   ]
  },
  {
   "cell_type": "code",
   "execution_count": 19,
   "id": "830bdccd-da79-48b3-9094-ae93a36a73b6",
   "metadata": {
    "height": 113
   },
   "outputs": [],
   "source": [
    "@tool\n",
    "def check_calendar_availability(day: str) -> str:\n",
    "    \"\"\"Check calendar availability for a given day.\"\"\"\n",
    "    # Placeholder response - in real app would check actual calendar\n",
    "    return f\"Available times on {day}: 9:00 AM, 2:00 PM, 4:00 PM\""
   ]
  },
  {
   "cell_type": "markdown",
   "id": "dfcb6b2c-adda-49d6-9d6c-b517ecf0bed3",
   "metadata": {},
   "source": [
    "## Main agent, define prompt"
   ]
  },
  {
   "cell_type": "code",
   "execution_count": 20,
   "id": "85758f8a-d58a-4f7f-8c86-809e1c250cba",
   "metadata": {
    "height": 215
   },
   "outputs": [],
   "source": [
    "from prompts import agent_system_prompt\n",
    "def create_prompt(state):\n",
    "    return [\n",
    "        {\n",
    "            \"role\": \"system\", \n",
    "            \"content\": agent_system_prompt.format(\n",
    "                instructions=prompt_instructions[\"agent_instructions\"],\n",
    "                **profile\n",
    "                )\n",
    "        }\n",
    "    ] + state['messages']"
   ]
  },
  {
   "cell_type": "code",
   "execution_count": 21,
   "id": "8f2d35a8-5e2f-4d67-9c5f-76b0d28e6fc0",
   "metadata": {
    "height": 30
   },
   "outputs": [
    {
     "name": "stdout",
     "output_type": "stream",
     "text": [
      "\n",
      "< Role >\n",
      "You are {full_name}'s executive assistant. You are a top-notch executive assistant who cares about {name} performing as well as possible.\n",
      "</ Role >\n",
      "\n",
      "< Tools >\n",
      "You have access to the following tools to help manage {name}'s communications and schedule:\n",
      "\n",
      "1. write_email(to, subject, content) - Send emails to specified recipients\n",
      "2. schedule_meeting(attendees, subject, duration_minutes, preferred_day) - Schedule calendar meetings\n",
      "3. check_calendar_availability(day) - Check available time slots for a given day\n",
      "</ Tools >\n",
      "\n",
      "< Instructions >\n",
      "{instructions}\n",
      "</ Instructions >\n",
      "\n"
     ]
    }
   ],
   "source": [
    "print(agent_system_prompt)"
   ]
  },
  {
   "cell_type": "code",
   "execution_count": 22,
   "id": "ea1d9acd-4a00-4432-9ce8-ce868f2ef989",
   "metadata": {
    "height": 30
   },
   "outputs": [],
   "source": [
    "from langgraph.prebuilt import create_react_agent"
   ]
  },
  {
   "cell_type": "code",
   "execution_count": 23,
   "id": "6d8fceee-06a0-4f57-a4e7-8d5fccd75fcd",
   "metadata": {
    "height": 45
   },
   "outputs": [],
   "source": [
    "tools=[write_email, schedule_meeting, check_calendar_availability]"
   ]
  },
  {
   "cell_type": "code",
   "execution_count": 24,
   "id": "4002b955-8496-46fa-97c3-15246dd7c621",
   "metadata": {
    "height": 98
   },
   "outputs": [],
   "source": [
    "agent = create_react_agent(\n",
    "    \"openai:gpt-4o\",\n",
    "    tools=tools,\n",
    "    prompt=create_prompt,\n",
    ")"
   ]
  },
  {
   "cell_type": "code",
   "execution_count": 25,
   "id": "91c2dd9b-ab96-48f6-9867-7095214452ef",
   "metadata": {
    "height": 115
   },
   "outputs": [],
   "source": [
    "response = agent.invoke(\n",
    "    {\"messages\": [{\n",
    "        \"role\": \"user\", \n",
    "        \"content\": \"what is my availability for tuesday?\"\n",
    "    }]}\n",
    ")"
   ]
  },
  {
   "cell_type": "code",
   "execution_count": 26,
   "id": "86ea8bb3-8026-4e08-94a6-edea65509162",
   "metadata": {
    "height": 30
   },
   "outputs": [
    {
     "name": "stdout",
     "output_type": "stream",
     "text": [
      "==================================\u001b[1m Ai Message \u001b[0m==================================\n",
      "\n",
      "You have the following available times on Tuesday:\n",
      "\n",
      "- 9:00 AM\n",
      "- 2:00 PM\n",
      "- 4:00 PM\n",
      "\n",
      "If you need me to schedule anything or make any arrangements, just let me know!\n"
     ]
    }
   ],
   "source": [
    "response[\"messages\"][-1].pretty_print()"
   ]
  },
  {
   "cell_type": "markdown",
   "id": "f09f8848-3d73-44ba-99c7-36ace553b1db",
   "metadata": {},
   "source": [
    "## Create the Overall Agent"
   ]
  },
  {
   "cell_type": "code",
   "execution_count": 27,
   "id": "356762e1-0fa4-422a-ba58-48596cd78c46",
   "metadata": {
    "height": 98
   },
   "outputs": [],
   "source": [
    "from langgraph.graph import add_messages\n",
    "\n",
    "class State(TypedDict):\n",
    "    email_input: dict\n",
    "    messages: Annotated[list, add_messages]"
   ]
  },
  {
   "cell_type": "code",
   "execution_count": 28,
   "id": "01a31298-4d6d-4a35-b489-92ce1b72519a",
   "metadata": {
    "height": 81
   },
   "outputs": [],
   "source": [
    "from langgraph.graph import StateGraph, START, END\n",
    "from langgraph.types import Command\n",
    "from typing import Literal\n",
    "from IPython.display import Image, display"
   ]
  },
  {
   "cell_type": "code",
   "execution_count": 29,
   "id": "f28908e0-c4fa-4e88-8a7e-e1d6af09b697",
   "metadata": {
    "height": 912
   },
   "outputs": [],
   "source": [
    "def triage_router(state: State) -> Command[\n",
    "    Literal[\"response_agent\", \"__end__\"]\n",
    "]:\n",
    "    author = state['email_input']['author']\n",
    "    to = state['email_input']['to']\n",
    "    subject = state['email_input']['subject']\n",
    "    email_thread = state['email_input']['email_thread']\n",
    "\n",
    "    system_prompt = triage_system_prompt.format(\n",
    "        full_name=profile[\"full_name\"],\n",
    "        name=profile[\"name\"],\n",
    "        user_profile_background=profile[\"user_profile_background\"],\n",
    "        triage_no=prompt_instructions[\"triage_rules\"][\"ignore\"],\n",
    "        triage_notify=prompt_instructions[\"triage_rules\"][\"notify\"],\n",
    "        triage_email=prompt_instructions[\"triage_rules\"][\"respond\"],\n",
    "        examples=None\n",
    "    )\n",
    "    user_prompt = triage_user_prompt.format(\n",
    "        author=author, \n",
    "        to=to, \n",
    "        subject=subject, \n",
    "        email_thread=email_thread\n",
    "    )\n",
    "    result = llm_router.invoke(\n",
    "        [\n",
    "            {\"role\": \"system\", \"content\": system_prompt},\n",
    "            {\"role\": \"user\", \"content\": user_prompt},\n",
    "        ]\n",
    "    )\n",
    "    if result.classification == \"respond\":\n",
    "        print(\"📧 Classification: RESPOND - This email requires a response\")\n",
    "        goto = \"response_agent\"\n",
    "        update = {\n",
    "            \"messages\": [\n",
    "                {\n",
    "                    \"role\": \"user\",\n",
    "                    \"content\": f\"Respond to the email {state['email_input']}\",\n",
    "                }\n",
    "            ]\n",
    "        }\n",
    "    elif result.classification == \"ignore\":\n",
    "        print(\"🚫 Classification: IGNORE - This email can be safely ignored\")\n",
    "        update = None\n",
    "        goto = END\n",
    "    elif result.classification == \"notify\":\n",
    "        # If real life, this would do something else\n",
    "        print(\"🔔 Classification: NOTIFY - This email contains important information\")\n",
    "        update = None\n",
    "        goto = END\n",
    "    else:\n",
    "        raise ValueError(f\"Invalid classification: {result.classification}\")\n",
    "    return Command(goto=goto, update=update)"
   ]
  },
  {
   "cell_type": "markdown",
   "id": "f5c28180-e21c-42bc-9568-4c3834cb1491",
   "metadata": {},
   "source": [
    "## Put it all together"
   ]
  },
  {
   "cell_type": "code",
   "execution_count": 30,
   "id": "a4cb9bb4-905b-45e3-9b34-eb59f850f51e",
   "metadata": {
    "height": 98
   },
   "outputs": [],
   "source": [
    "email_agent = StateGraph(State)\n",
    "email_agent = email_agent.add_node(triage_router)\n",
    "email_agent = email_agent.add_node(\"response_agent\", agent)\n",
    "email_agent = email_agent.add_edge(START, \"triage_router\")\n",
    "email_agent = email_agent.compile()"
   ]
  },
  {
   "cell_type": "code",
   "execution_count": 31,
   "id": "ed4509b1-7f03-4936-acab-e2cb0fe1192a",
   "metadata": {
    "height": 62
   },
   "outputs": [
    {
     "data": {
      "image/png": "[encoded data removed]",
      "text/plain": [
       "<IPython.core.display.Image object>"
      ]
     },
     "metadata": {},
     "output_type": "display_data"
    }
   ],
   "source": [
    "# Show the agent\n",
    "display(Image(email_agent.get_graph(xray=True).draw_mermaid_png()))"
   ]
  },
  {
   "cell_type": "code",
   "execution_count": 32,
   "id": "792c32cc-9b20-4f8a-900a-2158413317c0",
   "metadata": {
    "height": 538
   },
   "outputs": [],
   "source": [
    "email_input = {\n",
    "    \"author\": \"Marketing Team <marketing@amazingdeals.com>\",\n",
    "    \"to\": \"John Doe <john.doe@company.com>\",\n",
    "    \"subject\": \"🔥 EXCLUSIVE OFFER: Limited Time Discount on Developer Tools! 🔥\",\n",
    "    \"email_thread\": \"\"\"Dear Valued Developer,\n",
    "\n",
    "Don't miss out on this INCREDIBLE opportunity! \n",
    "\n",
    "🚀 For a LIMITED TIME ONLY, get 80% OFF on our Premium Developer Suite! \n",
    "\n",
    "✨ FEATURES:\n",
    "- Revolutionary AI-powered code completion\n",
    "- Cloud-based development environment\n",
    "- 24/7 customer support\n",
    "- And much more!\n",
    "\n",
    "💰 Regular Price: $999/month\n",
    "🎉 YOUR SPECIAL PRICE: Just $199/month!\n",
    "\n",
    "🕒 Hurry! This offer expires in:\n",
    "24 HOURS ONLY!\n",
    "\n",
    "Click here to claim your discount: https://amazingdeals.com/special-offer\n",
    "\n",
    "Best regards,\n",
    "Marketing Team\n",
    "---\n",
    "To unsubscribe, click here\n",
    "\"\"\",\n",
    "}"
   ]
  },
  {
   "cell_type": "code",
   "execution_count": 33,
   "id": "fb6cf2b1-1739-4f70-ad6b-58d0aec8a219",
   "metadata": {
    "height": 30
   },
   "outputs": [
    {
     "name": "stdout",
     "output_type": "stream",
     "text": [
      "🚫 Classification: IGNORE - This email can be safely ignored\n"
     ]
    }
   ],
   "source": [
    "response = email_agent.invoke({\"email_input\": email_input})"
   ]
  },
  {
   "cell_type": "code",
   "execution_count": 34,
   "id": "f62bb9ea-e964-4d38-a3f5-e890f32dc563",
   "metadata": {
    "height": 283
   },
   "outputs": [],
   "source": [
    "email_input = {\n",
    "    \"author\": \"Alice Smith <alice.smith@company.com>\",\n",
    "    \"to\": \"John Doe <john.doe@company.com>\",\n",
    "    \"subject\": \"Quick question about API documentation\",\n",
    "    \"email_thread\": \"\"\"Hi John,\n",
    "\n",
    "I was reviewing the API documentation for the new authentication service and noticed a few endpoints seem to be missing from the specs. Could you help clarify if this was intentional or if we should update the docs?\n",
    "\n",
    "Specifically, I'm looking at:\n",
    "- /auth/refresh\n",
    "- /auth/validate\n",
    "\n",
    "Thanks!\n",
    "Alice\"\"\",\n",
    "}"
   ]
  },
  {
   "cell_type": "code",
   "execution_count": 35,
   "id": "f6fd3a49-57ed-4da0-bd82-21c49b5f66cc",
   "metadata": {
    "height": 30
   },
   "outputs": [
    {
     "name": "stdout",
     "output_type": "stream",
     "text": [
      "📧 Classification: RESPOND - This email requires a response\n"
     ]
    }
   ],
   "source": [
    "response = email_agent.invoke({\"email_input\": email_input})"
   ]
  },
  {
   "cell_type": "code",
   "execution_count": 36,
   "id": "ec08077b-6e36-4f7f-a043-1f4a47ac8408",
   "metadata": {
    "height": 47
   },
   "outputs": [
    {
     "name": "stdout",
     "output_type": "stream",
     "text": [
      "================================\u001b[1m Human Message \u001b[0m=================================\n",
      "\n",
      "Respond to the email {'author': 'Alice Smith <alice.smith@company.com>', 'to': 'John Doe <john.doe@company.com>', 'subject': 'Quick question about API documentation', 'email_thread': \"Hi John,\\n\\nI was reviewing the API documentation for the new authentication service and noticed a few endpoints seem to be missing from the specs. Could you help clarify if this was intentional or if we should update the docs?\\n\\nSpecifically, I'm looking at:\\n- /auth/refresh\\n- /auth/validate\\n\\nThanks!\\nAlice\"}\n",
      "==================================\u001b[1m Ai Message \u001b[0m==================================\n",
      "Tool Calls:\n",
      "  write_email (call_xfFxCup08VEU8gdoRftb0R9p)\n",
      " Call ID: call_xfFxCup08VEU8gdoRftb0R9p\n",
      "  Args:\n",
      "    to: alice.smith@company.com\n",
      "    subject: Re: Quick question about API documentation\n",
      "    content: Hi Alice,\n",
      "\n",
      "Thank you for reaching out. I will look into the missing endpoints for the new authentication service documentation. It could be an oversight or something intentional, and I'll get back to you by tomorrow.\n",
      "\n",
      "Please let me know if there's anything urgent in the meantime!\n",
      "\n",
      "Best,\n",
      "John\n",
      "=================================\u001b[1m Tool Message \u001b[0m=================================\n",
      "Name: write_email\n",
      "\n",
      "Email sent to alice.smith@company.com with subject 'Re: Quick question about API documentation'\n",
      "==================================\u001b[1m Ai Message \u001b[0m==================================\n",
      "\n",
      "I have responded to Alice regarding her question about the API documentation. Let me know if there's anything else you need!\n"
     ]
    }
   ],
   "source": [
    "for m in response[\"messages\"]:\n",
    "    m.pretty_print()"
   ]
  },
  {
   "cell_type": "code",
   "execution_count": null,
   "id": "cdd7059d-3441-44eb-9ccb-62a0f73f00c7",
   "metadata": {
    "height": 30
   },
   "outputs": [],
   "source": []
  },
  {
   "cell_type": "code",
   "execution_count": null,
   "id": "767d3133-bebe-4067-863a-593cdb00cec0",
   "metadata": {
    "height": 30
   },
   "outputs": [],
   "source": []
  },
  {
   "cell_type": "code",
   "execution_count": null,
   "id": "df37eacd-d6bf-496f-ab69-db6afe41a690",
   "metadata": {
    "height": 30
   },
   "outputs": [],
   "source": []
  },
  {
   "cell_type": "code",
   "execution_count": null,
   "id": "b8a78bed-924a-4baf-8357-bbeae3fc5a7a",
   "metadata": {
    "height": 30
   },
   "outputs": [],
   "source": []
  },
  {
   "cell_type": "code",
   "execution_count": null,
   "id": "7d425198-4e10-408d-a41d-5abaee7b335c",
   "metadata": {
    "height": 30
   },
   "outputs": [],
   "source": []
  },
  {
   "cell_type": "code",
   "execution_count": null,
   "id": "67c8873f-95fa-480c-8b78-caccb844770e",
   "metadata": {
    "height": 30
   },
   "outputs": [],
   "source": []
  },
  {
   "cell_type": "code",
   "execution_count": null,
   "id": "5db64057-17c6-4049-82e5-38dfdf415334",
   "metadata": {
    "height": 30
   },
   "outputs": [],
   "source": []
  },
  {
   "cell_type": "code",
   "execution_count": null,
   "id": "9074023d-cfd3-45aa-98f8-bb72e3679453",
   "metadata": {
    "height": 30
   },
   "outputs": [],
   "source": []
  },
  {
   "cell_type": "code",
   "execution_count": null,
   "id": "70c38195-d3c7-4dd5-bd96-f102c157ec9f",
   "metadata": {
    "height": 30
   },
   "outputs": [],
   "source": []
  },
  {
   "cell_type": "code",
   "execution_count": null,
   "id": "5530c5f3-c849-45da-bbdd-b6bf2ae4a7e8",
   "metadata": {
    "height": 30
   },
   "outputs": [],
   "source": []
  },
  {
   "cell_type": "code",
   "execution_count": null,
   "id": "864fe74f-ee11-487b-b9ed-4992159550ef",
   "metadata": {
    "height": 30
   },
   "outputs": [],
   "source": []
  },
  {
   "cell_type": "code",
   "execution_count": null,
   "id": "880a24fe-f330-47bf-b3c3-147412123bab",
   "metadata": {
    "height": 30
   },
   "outputs": [],
   "source": []
  },
  {
   "cell_type": "code",
   "execution_count": null,
   "id": "c15d29fa-16e9-4691-8a8f-349ccfb5a487",
   "metadata": {
    "height": 30
   },
   "outputs": [],
   "source": []
  },
  {
   "cell_type": "code",
   "execution_count": null,
   "id": "96901ac6-2ed4-4b16-8a8b-61f6cc6a253b",
   "metadata": {
    "height": 30
   },
   "outputs": [],
   "source": []
  },
  {
   "cell_type": "code",
   "execution_count": null,
   "id": "e617fc32-9d75-4edc-9aa9-d9153476b4c4",
   "metadata": {
    "height": 30
   },
   "outputs": [],
   "source": []
  },
  {
   "cell_type": "code",
   "execution_count": null,
   "id": "a6a48346-7cb1-44e7-a030-964710b01e14",
   "metadata": {
    "height": 30
   },
   "outputs": [],
   "source": []
  },
  {
   "cell_type": "code",
   "execution_count": null,
   "id": "38a00029-a8d8-495e-8888-da46bfb7d318",
   "metadata": {
    "height": 30
   },
   "outputs": [],
   "source": []
  },
  {
   "cell_type": "code",
   "execution_count": null,
   "id": "409edba8-7973-4118-9784-368a6a2309de",
   "metadata": {
    "height": 30
   },
   "outputs": [],
   "source": []
  },
  {
   "cell_type": "code",
   "execution_count": null,
   "id": "ef263fd8-0237-49ea-bc57-59f460eec6a5",
   "metadata": {
    "height": 30
   },
   "outputs": [],
   "source": []
  },
  {
   "cell_type": "code",
   "execution_count": null,
   "id": "1e4ecd6f-409b-4c72-b9af-279ef1db32bd",
   "metadata": {
    "height": 30
   },
   "outputs": [],
   "source": []
  },
  {
   "cell_type": "code",
   "execution_count": null,
   "id": "1e208d80-6647-4fef-a34a-bbc7f3799ec7",
   "metadata": {
    "height": 30
   },
   "outputs": [],
   "source": []
  },
  {
   "cell_type": "code",
   "execution_count": null,
   "id": "10448637-d2b2-44e1-8755-bb2a6b70a513",
   "metadata": {
    "height": 30
   },
   "outputs": [],
   "source": []
  },
  {
   "cell_type": "code",
   "execution_count": null,
   "id": "12b87228-90d0-4a2a-852a-8f5cbecce2e1",
   "metadata": {
    "height": 30
   },
   "outputs": [],
   "source": []
  },
  {
   "cell_type": "code",
   "execution_count": null,
   "id": "4c8e8d70-3c0a-4334-99a1-aa196f8df555",
   "metadata": {
    "height": 30
   },
   "outputs": [],
   "source": []
  },
  {
   "cell_type": "code",
   "execution_count": null,
   "id": "ba5a21fa-59c2-4f22-befa-942f55493ca2",
   "metadata": {
    "height": 30
   },
   "outputs": [],
   "source": []
  },
  {
   "cell_type": "code",
   "execution_count": null,
   "id": "2f91c943-af0a-4baa-8c1e-79a8cb0f855e",
   "metadata": {
    "height": 30
   },
   "outputs": [],
   "source": []
  },
  {
   "cell_type": "code",
   "execution_count": null,
   "id": "30437c51-7818-4b52-a2a2-77c9c50d7557",
   "metadata": {
    "height": 30
   },
   "outputs": [],
   "source": []
  },
  {
   "cell_type": "code",
   "execution_count": null,
   "id": "a6a7cfb7-6a6a-445f-8510-9ba0f35771e7",
   "metadata": {
    "height": 30
   },
   "outputs": [],
   "source": []
  },
  {
   "cell_type": "code",
   "execution_count": null,
   "id": "c115779a-17b2-4296-9a0f-a26a5602a147",
   "metadata": {
    "height": 30
   },
   "outputs": [],
   "source": []
  },
  {
   "cell_type": "code",
   "execution_count": null,
   "id": "3db41aaa-0651-48f6-a6a1-9a47b74e8f40",
   "metadata": {
    "height": 30
   },
   "outputs": [],
   "source": []
  },
  {
   "cell_type": "code",
   "execution_count": null,
   "id": "2318e446-d1df-43b0-a83f-47ac38e91222",
   "metadata": {
    "height": 30
   },
   "outputs": [],
   "source": []
  },
  {
   "cell_type": "code",
   "execution_count": null,
   "id": "b0925990-b592-4541-b213-938b1b805455",
   "metadata": {
    "height": 30
   },
   "outputs": [],
   "source": []
  },
  {
   "cell_type": "code",
   "execution_count": null,
   "id": "b792b111-c1db-49b6-9480-2a39cd140fed",
   "metadata": {
    "height": 30
   },
   "outputs": [],
   "source": []
  },
  {
   "cell_type": "code",
   "execution_count": null,
   "id": "1d01ad59-6ac6-420b-bced-e0b4f5f52e14",
   "metadata": {
    "height": 30
   },
   "outputs": [],
   "source": []
  },
  {
   "cell_type": "code",
   "execution_count": null,
   "id": "94f36db6-d27d-428f-bde5-e6b020757fb7",
   "metadata": {
    "height": 30
   },
   "outputs": [],
   "source": []
  },
  {
   "cell_type": "code",
   "execution_count": null,
   "id": "037b3cae-e67f-4c5e-87b4-659dbd9c8bdc",
   "metadata": {
    "height": 30
   },
   "outputs": [],
   "source": []
  },
  {
   "cell_type": "code",
   "execution_count": null,
   "id": "f1640f82-0ce1-4306-96a4-9e615734c93e",
   "metadata": {
    "height": 30
   },
   "outputs": [],
   "source": []
  },
  {
   "cell_type": "code",
   "execution_count": null,
   "id": "e2c84ada-0d6e-411f-8842-614202429c40",
   "metadata": {
    "height": 30
   },
   "outputs": [],
   "source": []
  },
  {
   "cell_type": "code",
   "execution_count": null,
   "id": "7050e473-6ac2-4be2-b6c9-edcecac432d6",
   "metadata": {
    "height": 30
   },
   "outputs": [],
   "source": []
  },
  {
   "cell_type": "code",
   "execution_count": null,
   "id": "d573367f-85ce-431a-bd29-82f79e73c185",
   "metadata": {
    "height": 30
   },
   "outputs": [],
   "source": []
  },
  {
   "cell_type": "code",
   "execution_count": null,
   "id": "0c6f60c6-da11-4d90-ab15-0cbfd119d9a2",
   "metadata": {
    "height": 30
   },
   "outputs": [],
   "source": []
  },
  {
   "cell_type": "code",
   "execution_count": null,
   "id": "b9610997-6bfe-48bd-a607-0b73d67481a8",
   "metadata": {
    "height": 30
   },
   "outputs": [],
   "source": []
  },
  {
   "cell_type": "code",
   "execution_count": null,
   "id": "5a87c114-03e8-4ad3-8751-6b5d2669a306",
   "metadata": {
    "height": 30
   },
   "outputs": [],
   "source": []
  },
  {
   "cell_type": "code",
   "execution_count": null,
   "id": "8ee6dc1a-15de-4da2-b1a0-a052481943ee",
   "metadata": {
    "height": 30
   },
   "outputs": [],
   "source": []
  },
  {
   "cell_type": "code",
   "execution_count": null,
   "id": "735bcf2d-9eb7-4bd6-a55b-bfb573a02a46",
   "metadata": {
    "height": 30
   },
   "outputs": [],
   "source": []
  },
  {
   "cell_type": "code",
   "execution_count": null,
   "id": "4fd526a9-c5cb-4156-8390-512f987e9a22",
   "metadata": {
    "height": 30
   },
   "outputs": [],
   "source": []
  },
  {
   "cell_type": "code",
   "execution_count": null,
   "id": "60033b55-87fc-4108-b65f-27b22ef46663",
   "metadata": {
    "height": 30
   },
   "outputs": [],
   "source": []
  },
  {
   "cell_type": "code",
   "execution_count": null,
   "id": "da593a78-5387-4994-897a-6addfa6453c9",
   "metadata": {
    "height": 30
   },
   "outputs": [],
   "source": []
  },
  {
   "cell_type": "code",
   "execution_count": null,
   "id": "a792b902-1d7f-4281-94b3-a535aaa25c4c",
   "metadata": {
    "height": 30
   },
   "outputs": [],
   "source": []
  },
  {
   "cell_type": "code",
   "execution_count": null,
   "id": "2a359d25-80e3-462b-a53c-b2944b7ec749",
   "metadata": {
    "height": 30
   },
   "outputs": [],
   "source": []
  },
  {
   "cell_type": "code",
   "execution_count": null,
   "id": "b621cd7d-1f11-400f-b694-07e62a7d525b",
   "metadata": {
    "height": 30
   },
   "outputs": [],
   "source": []
  },
  {
   "cell_type": "code",
   "execution_count": null,
   "id": "8a9cd3ab-db01-4ee1-a358-8385c9c73b57",
   "metadata": {
    "height": 30
   },
   "outputs": [],
   "source": []
  },
  {
   "cell_type": "code",
   "execution_count": null,
   "id": "1025d948-fa42-4efc-a5b7-a1ed02ba32ca",
   "metadata": {
    "height": 30
   },
   "outputs": [],
   "source": []
  },
  {
   "cell_type": "code",
   "execution_count": null,
   "id": "29d3fc15-31b1-46fa-821d-9286683ff5ec",
   "metadata": {
    "height": 30
   },
   "outputs": [],
   "source": []
  },
  {
   "cell_type": "code",
   "execution_count": null,
   "id": "c0dc26de-22b6-441b-9018-24f73fec6ded",
   "metadata": {
    "height": 30
   },
   "outputs": [],
   "source": []
  },
  {
   "cell_type": "code",
   "execution_count": null,
   "id": "f98306d9-3022-4a3b-b3fc-d6c0ee8ebaf7",
   "metadata": {
    "height": 30
   },
   "outputs": [],
   "source": []
  },
  {
   "cell_type": "code",
   "execution_count": null,
   "id": "efc6a78f-4a16-44c6-a9b4-4f387c144a17",
   "metadata": {
    "height": 30
   },
   "outputs": [],
   "source": []
  },
  {
   "cell_type": "code",
   "execution_count": null,
   "id": "f256dd98-72df-4deb-964a-8b4d6d7e0745",
   "metadata": {
    "height": 30
   },
   "outputs": [],
   "source": []
  },
  {
   "cell_type": "code",
   "execution_count": null,
   "id": "fe3821d0-b1f6-4f65-8d6b-44a90bf32edb",
   "metadata": {
    "height": 30
   },
   "outputs": [],
   "source": []
  },
  {
   "cell_type": "code",
   "execution_count": null,
   "id": "4f864356-12e8-452a-be9b-e6181ca5a5b7",
   "metadata": {
    "height": 30
   },
   "outputs": [],
   "source": []
  },
  {
   "cell_type": "code",
   "execution_count": null,
   "id": "6ea3ea7c-9fe7-43de-8872-7b4a244a0823",
   "metadata": {
    "height": 30
   },
   "outputs": [],
   "source": []
  },
  {
   "cell_type": "code",
   "execution_count": null,
   "id": "79583f12-c83e-46a2-bef0-9a28908c1bdc",
   "metadata": {
    "height": 30
   },
   "outputs": [],
   "source": []
  },
  {
   "cell_type": "code",
   "execution_count": null,
   "id": "83f1ac93-9174-4ec0-8cb4-5058ee15f467",
   "metadata": {
    "height": 30
   },
   "outputs": [],
   "source": []
  },
  {
   "cell_type": "code",
   "execution_count": null,
   "id": "62d651a3-7189-43a9-98cb-dc51e31ca900",
   "metadata": {
    "height": 30
   },
   "outputs": [],
   "source": []
  },
  {
   "cell_type": "code",
   "execution_count": null,
   "id": "20c0a61d-7130-45e8-90b6-9515785b25fe",
   "metadata": {
    "height": 30
   },
   "outputs": [],
   "source": []
  },
  {
   "cell_type": "code",
   "execution_count": null,
   "id": "87e8ee71-1244-4a39-9f5f-d2062afa4e45",
   "metadata": {
    "height": 30
   },
   "outputs": [],
   "source": []
  },
  {
   "cell_type": "code",
   "execution_count": null,
   "id": "d7bd4430-4aaf-4a8c-a0ac-2c003b1dc5b3",
   "metadata": {
    "height": 30
   },
   "outputs": [],
   "source": []
  },
  {
   "cell_type": "code",
   "execution_count": null,
   "id": "1f935176-8d77-428a-b4ba-1268757624c2",
   "metadata": {
    "height": 30
   },
   "outputs": [],
   "source": []
  }
 ],
 "metadata": {
  "kernelspec": {
   "display_name": "Python 3 (ipykernel)",
   "language": "python",
   "name": "python3"
  },
  "language_info": {
   "codemirror_mode": {
    "name": "ipython",
    "version": 3
   },
   "file_extension": ".py",
   "mimetype": "text/x-python",
   "name": "python",
   "nbconvert_exporter": "python",
   "pygments_lexer": "ipython3",
   "version": "3.12.5"
  }
 },
 "nbformat": 4,
 "nbformat_minor": 5
}
