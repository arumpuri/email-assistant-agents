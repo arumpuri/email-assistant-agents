{
 "cells": [
  {
   "cell_type": "markdown",
   "id": "41684a88-2319-4386-88b4-4a99b4ce0a17",
   "metadata": {},
   "source": [
    "## Email Assistant with Semantic Memory\n"
   ]
  },
  {
   "cell_type": "markdown",
   "id": "24a94010-87f3-4967-89ec-33fbc15757fc",
   "metadata": {},
   "source": [
    "## Load API tokens for our 3rd party APIs"
   ]
  },
  {
   "cell_type": "code",
   "execution_count": 1,
   "id": "6acfd20e-6ce0-4209-b5f7-d22a29efca27",
   "metadata": {
    "height": 64
   },
   "outputs": [],
   "source": [
    "import os\n",
    "from dotenv import load_dotenv\n",
    "_ = load_dotenv()"
   ]
  },
  {
   "cell_type": "code",
   "execution_count": 2,
   "id": "3ff41bc2-55d1-4dc5-afdd-50c9c4377cba",
   "metadata": {
    "height": 113
   },
   "outputs": [],
   "source": [
    "profile = {\n",
    "    \"name\": \"John\",\n",
    "    \"full_name\": \"John Doe\",\n",
    "    \"user_profile_background\": \"Senior software engineer leading a team of 5 developers\",\n",
    "}"
   ]
  },
  {
   "cell_type": "code",
   "execution_count": 3,
   "id": "ea941d6d-172c-4b08-923d-ef540b824ed0",
   "metadata": {
    "height": 164
   },
   "outputs": [],
   "source": [
    "prompt_instructions = {\n",
    "    \"triage_rules\": {\n",
    "        \"ignore\": \"Marketing newsletters, spam emails, mass company announcements\",\n",
    "        \"notify\": \"Team member out sick, build system notifications, project status updates\",\n",
    "        \"respond\": \"Direct questions from team members, meeting requests, critical bug reports\",\n",
    "    },\n",
    "    \"agent_instructions\": \"Use these tools when appropriate to help manage John's tasks efficiently.\"\n",
    "}"
   ]
  },
  {
   "cell_type": "code",
   "execution_count": 4,
   "id": "17e94905-26e2-40cd-863f-e76ece2dbbe5",
   "metadata": {
    "height": 300
   },
   "outputs": [],
   "source": [
    "email = {\n",
    "    \"from\": \"Alice Smith <alice.smith@company.com>\",\n",
    "    \"to\": \"John Doe <john.doe@company.com>\",\n",
    "    \"subject\": \"Quick question about API documentation\",\n",
    "    \"body\": \"\"\"\n",
    "Hi John,\n",
    "\n",
    "I was reviewing the API documentation for the new authentication service and noticed a few endpoints seem to be missing from the specs. Could you help clarify if this was intentional or if we should update the docs?\n",
    "\n",
    "Specifically, I'm looking at:\n",
    "- /auth/refresh\n",
    "- /auth/validate\n",
    "\n",
    "Thanks!\n",
    "Alice\"\"\",\n",
    "}"
   ]
  },
  {
   "cell_type": "code",
   "execution_count": 5,
   "id": "7de391b1-18ef-4da7-ad41-781730804cfb",
   "metadata": {
    "height": 64
   },
   "outputs": [],
   "source": [
    "from pydantic import BaseModel, Field\n",
    "from typing_extensions import TypedDict, Literal, Annotated\n",
    "from langchain.chat_models import init_chat_model"
   ]
  },
  {
   "cell_type": "code",
   "execution_count": 6,
   "id": "882f5718-56e2-4938-96f4-19fe335a3506",
   "metadata": {
    "height": 30
   },
   "outputs": [],
   "source": [
    "llm = init_chat_model(\"openai:gpt-4o-mini\")"
   ]
  },
  {
   "cell_type": "code",
   "execution_count": 7,
   "id": "b4909d11-4550-4089-86c4-57da340fe825",
   "metadata": {
    "height": 215
   },
   "outputs": [],
   "source": [
    "class Router(BaseModel):\n",
    "    \"\"\"Analyze the unread email and route it according to its content.\"\"\"\n",
    "\n",
    "    reasoning: str = Field(\n",
    "        description=\"Step-by-step reasoning behind the classification.\"\n",
    "    )\n",
    "    classification: Literal[\"ignore\", \"respond\", \"notify\"] = Field(\n",
    "        description=\"The classification of an email: 'ignore' for irrelevant emails, \"\n",
    "        \"'notify' for important information that doesn't need a response, \"\n",
    "        \"'respond' for emails that need a reply\",\n",
    "    )"
   ]
  },
  {
   "cell_type": "code",
   "execution_count": 8,
   "id": "d9a770bf-ec39-44ed-84ac-cdf9b54bc21b",
   "metadata": {
    "height": 30
   },
   "outputs": [],
   "source": [
    "llm_router = llm.with_structured_output(Router)"
   ]
  },
  {
   "cell_type": "code",
   "execution_count": 9,
   "id": "96fc3a0b-b8f3-4ef8-8105-335e9b624741",
   "metadata": {
    "height": 30
   },
   "outputs": [],
   "source": [
    "from prompts import triage_system_prompt, triage_user_prompt"
   ]
  },
  {
   "cell_type": "code",
   "execution_count": 10,
   "id": "c8030097-2efb-468a-bcbe-4aaf027cd4bb",
   "metadata": {
    "height": 30
   },
   "outputs": [],
   "source": [
    "from langchain_core.tools import tool"
   ]
  },
  {
   "cell_type": "code",
   "execution_count": 11,
   "id": "73f30a60-550c-40ae-8617-da7e16c71bac",
   "metadata": {
    "height": 115
   },
   "outputs": [],
   "source": [
    "@tool\n",
    "def write_email(to: str, subject: str, content: str) -> str:\n",
    "    \"\"\"Write and send an email.\"\"\"\n",
    "    # Placeholder response - in real app would send email\n",
    "    return f\"Email sent to {to} with subject '{subject}'\"\n"
   ]
  },
  {
   "cell_type": "code",
   "execution_count": 12,
   "id": "f0c264ac-681e-4750-ba03-9529cc36206b",
   "metadata": {
    "height": 215
   },
   "outputs": [],
   "source": [
    "@tool\n",
    "def schedule_meeting(\n",
    "    attendees: list[str], \n",
    "    subject: str, \n",
    "    duration_minutes: int, \n",
    "    preferred_day: str\n",
    ") -> str:\n",
    "    \"\"\"Schedule a calendar meeting.\"\"\"\n",
    "    # Placeholder response - in real app would check calendar and schedule\n",
    "    return f\"Meeting '{subject}' scheduled for {preferred_day} with {len(attendees)} attendees\"\n"
   ]
  },
  {
   "cell_type": "code",
   "execution_count": 13,
   "id": "3e369fbe-5aa9-4b9f-9094-29e27b489d24",
   "metadata": {
    "height": 113
   },
   "outputs": [],
   "source": [
    "@tool\n",
    "def check_calendar_availability(day: str) -> str:\n",
    "    \"\"\"Check calendar availability for a given day.\"\"\"\n",
    "    # Placeholder response - in real app would check actual calendar\n",
    "    return f\"Available times on {day}: 9:00 AM, 2:00 PM, 4:00 PM\""
   ]
  },
  {
   "cell_type": "markdown",
   "id": "0ca4a69d-e6d5-47a0-a2ea-e793fce2c33e",
   "metadata": {},
   "source": [
    "## Define tools for managing memory"
   ]
  },
  {
   "cell_type": "code",
   "execution_count": 14,
   "id": "8c7a95cb-033c-438b-a9d3-c94352f905a9",
   "metadata": {
    "height": 30
   },
   "outputs": [],
   "source": [
    "from langgraph.store.memory import InMemoryStore"
   ]
  },
  {
   "cell_type": "code",
   "execution_count": 15,
   "id": "a15da216-86bb-4180-b62e-9493572ef04e",
   "metadata": {
    "height": 64
   },
   "outputs": [
    {
     "name": "stderr",
     "output_type": "stream",
     "text": [
      "/usr/local/lib/python3.11/site-packages/langgraph/store/base/embed.py:95: LangChainBetaWarning: The function `init_embeddings` is in beta. It is actively being worked on, so the API may change.\n",
      "  return init_embeddings(embed)\n"
     ]
    }
   ],
   "source": [
    "store = InMemoryStore(\n",
    "    index={\"embed\": \"openai:text-embedding-3-small\"}\n",
    ")"
   ]
  },
  {
   "cell_type": "code",
   "execution_count": 16,
   "id": "0e4adc38-1815-454a-af9d-618fbdd8ad63",
   "metadata": {
    "height": 45
   },
   "outputs": [],
   "source": [
    "from langmem import create_manage_memory_tool, create_search_memory_tool"
   ]
  },
  {
   "cell_type": "code",
   "execution_count": 17,
   "id": "ab7602e1-762f-4b3d-8eef-4d5b368463c4",
   "metadata": {
    "height": 251
   },
   "outputs": [],
   "source": [
    "manage_memory_tool = create_manage_memory_tool(\n",
    "    namespace=(\n",
    "        \"email_assistant\", \n",
    "        \"{langgraph_user_id}\",\n",
    "        \"collection\"\n",
    "    )\n",
    ")\n",
    "search_memory_tool = create_search_memory_tool(\n",
    "    namespace=(\n",
    "        \"email_assistant\",\n",
    "        \"{langgraph_user_id}\",\n",
    "        \"collection\"\n",
    "    )\n",
    ")"
   ]
  },
  {
   "cell_type": "code",
   "execution_count": 18,
   "id": "ef806d95-dfe7-45be-ad09-466e81fe1de1",
   "metadata": {
    "height": 30
   },
   "outputs": [
    {
     "name": "stdout",
     "output_type": "stream",
     "text": [
      "manage_memory\n"
     ]
    }
   ],
   "source": [
    "print(manage_memory_tool.name)"
   ]
  },
  {
   "cell_type": "code",
   "execution_count": 19,
   "id": "d166aade-b9c1-4766-9a60-3b6ac09b04ee",
   "metadata": {
    "height": 30
   },
   "outputs": [
    {
     "name": "stdout",
     "output_type": "stream",
     "text": [
      "Create, update, or delete persistent MEMORIES to persist across conversations.\n",
      "Include the MEMORY ID when updating or deleting a MEMORY. Omit when creating a new MEMORY - it will be created for you.\n",
      "Proactively call this tool when you:\n",
      "\n",
      "1. Identify a new USER preference.\n",
      "2. Receive an explicit USER request to remember something or otherwise alter your behavior.\n",
      "3. Are working and want to record important context.\n",
      "4. Identify that an existing MEMORY is incorrect or outdated.\n"
     ]
    }
   ],
   "source": [
    "print(manage_memory_tool.description)"
   ]
  },
  {
   "cell_type": "code",
   "execution_count": 20,
   "id": "e3f2f653-b7e3-4957-8258-1ffb697df13e",
   "metadata": {
    "height": 30
   },
   "outputs": [
    {
     "data": {
      "text/plain": [
       "{'content': {'anyOf': [{'type': 'string'}, {'type': 'null'}],\n",
       "  'default': None,\n",
       "  'title': 'Content'},\n",
       " 'action': {'default': 'create',\n",
       "  'enum': ['create', 'update', 'delete'],\n",
       "  'title': 'Action',\n",
       "  'type': 'string'},\n",
       " 'id': {'anyOf': [{'format': 'uuid', 'type': 'string'}, {'type': 'null'}],\n",
       "  'default': None,\n",
       "  'title': 'Id'}}"
      ]
     },
     "execution_count": 20,
     "metadata": {},
     "output_type": "execute_result"
    }
   ],
   "source": [
    "manage_memory_tool.args"
   ]
  },
  {
   "cell_type": "code",
   "execution_count": 21,
   "id": "c4471874-07fe-4c8b-a528-829ab24c8f67",
   "metadata": {
    "height": 30
   },
   "outputs": [
    {
     "data": {
      "text/plain": [
       "'search_memory'"
      ]
     },
     "execution_count": 21,
     "metadata": {},
     "output_type": "execute_result"
    }
   ],
   "source": [
    "search_memory_tool.name"
   ]
  },
  {
   "cell_type": "code",
   "execution_count": 22,
   "id": "15ec14ac-8aac-41e1-9ddd-7802db88da58",
   "metadata": {
    "height": 30
   },
   "outputs": [
    {
     "data": {
      "text/plain": [
       "'Search your long-term memories for information relevant to your current context.'"
      ]
     },
     "execution_count": 22,
     "metadata": {},
     "output_type": "execute_result"
    }
   ],
   "source": [
    "search_memory_tool.description"
   ]
  },
  {
   "cell_type": "code",
   "execution_count": 23,
   "id": "4280817a-647c-4a68-8ad7-73f9ef3a6f90",
   "metadata": {
    "height": 30
   },
   "outputs": [
    {
     "data": {
      "text/plain": [
       "{'query': {'title': 'Query', 'type': 'string'},\n",
       " 'limit': {'default': 10, 'title': 'Limit', 'type': 'integer'},\n",
       " 'offset': {'default': 0, 'title': 'Offset', 'type': 'integer'},\n",
       " 'filter': {'anyOf': [{'type': 'object'}, {'type': 'null'}],\n",
       "  'default': None,\n",
       "  'title': 'Filter'}}"
      ]
     },
     "execution_count": 23,
     "metadata": {},
     "output_type": "execute_result"
    }
   ],
   "source": [
    "search_memory_tool.args"
   ]
  },
  {
   "cell_type": "code",
   "execution_count": 24,
   "id": "b0379cc0-6d1c-44f3-a8fd-4c5008c9e05a",
   "metadata": {
    "height": 351
   },
   "outputs": [],
   "source": [
    "agent_system_prompt_memory = \"\"\"\n",
    "< Role >\n",
    "You are {full_name}'s executive assistant. You are a top-notch executive assistant who cares about {name} performing as well as possible.\n",
    "</ Role >\n",
    "\n",
    "< Tools >\n",
    "You have access to the following tools to help manage {name}'s communications and schedule:\n",
    "\n",
    "1. write_email(to, subject, content) - Send emails to specified recipients\n",
    "2. schedule_meeting(attendees, subject, duration_minutes, preferred_day) - Schedule calendar meetings\n",
    "3. check_calendar_availability(day) - Check available time slots for a given day\n",
    "4. manage_memory - Store any relevant information about contacts, actions, discussion, etc. in memory for future reference\n",
    "5. search_memory - Search for any relevant information that may have been stored in memory\n",
    "</ Tools >\n",
    "\n",
    "< Instructions >\n",
    "{instructions}\n",
    "</ Instructions >\n",
    "\"\"\""
   ]
  },
  {
   "cell_type": "code",
   "execution_count": 25,
   "id": "a2e38042-5a3d-486e-9345-b33169f10369",
   "metadata": {
    "height": 198
   },
   "outputs": [],
   "source": [
    "def create_prompt(state):\n",
    "    return [\n",
    "        {\n",
    "            \"role\": \"system\", \n",
    "            \"content\": agent_system_prompt_memory.format(\n",
    "                instructions=prompt_instructions[\"agent_instructions\"], \n",
    "                **profile\n",
    "            )\n",
    "        }\n",
    "    ] + state['messages']"
   ]
  },
  {
   "cell_type": "code",
   "execution_count": 26,
   "id": "d6facc85-1917-479f-bdaa-667034a1f280",
   "metadata": {
    "height": 30
   },
   "outputs": [],
   "source": [
    "from langgraph.prebuilt import create_react_agent"
   ]
  },
  {
   "cell_type": "code",
   "execution_count": 27,
   "id": "420e54fd-c93f-40d8-8a36-c3fcabc3434b",
   "metadata": {
    "height": 251
   },
   "outputs": [],
   "source": [
    "tools= [\n",
    "    write_email, \n",
    "    schedule_meeting,\n",
    "    check_calendar_availability,\n",
    "    manage_memory_tool,\n",
    "    search_memory_tool\n",
    "]\n",
    "response_agent = create_react_agent(\n",
    "    \"anthropic:claude-3-5-sonnet-latest\",\n",
    "    tools=tools,\n",
    "    prompt=create_prompt,\n",
    "    # Use this to ensure the store is passed to the agent \n",
    "    store=store\n",
    ")"
   ]
  },
  {
   "cell_type": "code",
   "execution_count": 28,
   "id": "f8356750-de1d-4b72-8768-c4b093af23f1",
   "metadata": {
    "height": 30
   },
   "outputs": [],
   "source": [
    "config = {\"configurable\": {\"langgraph_user_id\": \"lance\"}}"
   ]
  },
  {
   "cell_type": "code",
   "execution_count": 29,
   "id": "6e760c77-420e-47da-89d0-27b6a5faf18a",
   "metadata": {
    "height": 96
   },
   "outputs": [],
   "source": [
    "response = response_agent.invoke(\n",
    "    {\"messages\": [{\"role\": \"user\", \"content\": \"Jim is my friend\"}]},\n",
    "    config=config\n",
    ")"
   ]
  },
  {
   "cell_type": "code",
   "execution_count": 30,
   "id": "01c06546-4c74-4087-8053-9b105bc06864",
   "metadata": {
    "height": 47
   },
   "outputs": [
    {
     "name": "stdout",
     "output_type": "stream",
     "text": [
      "================================\u001b[1m Human Message \u001b[0m=================================\n",
      "\n",
      "Jim is my friend\n",
      "==================================\u001b[1m Ai Message \u001b[0m==================================\n",
      "\n",
      "[{'text': \"I'll help store this information about Jim in the memory system for future reference.\", 'type': 'text'}, {'id': 'toolu_01N6cnXogCkuW5xLSHEf83bF', 'input': {'content': \"Jim is John Doe's friend.\"}, 'name': 'manage_memory', 'type': 'tool_use'}]\n",
      "Tool Calls:\n",
      "  manage_memory (toolu_01N6cnXogCkuW5xLSHEf83bF)\n",
      " Call ID: toolu_01N6cnXogCkuW5xLSHEf83bF\n",
      "  Args:\n",
      "    content: Jim is John Doe's friend.\n",
      "=================================\u001b[1m Tool Message \u001b[0m=================================\n",
      "Name: manage_memory\n",
      "\n",
      "created memory f129b2c3-235e-48cb-b1d4-4b52ecd700df\n",
      "==================================\u001b[1m Ai Message \u001b[0m==================================\n",
      "\n",
      "I've recorded that Jim is your friend in my memory. This will help me better assist you with any future interactions or communications involving Jim. Is there anything specific about Jim that you'd like me to know or help you with, such as scheduling a meeting or sending an email?\n"
     ]
    }
   ],
   "source": [
    "for m in response[\"messages\"]:\n",
    "    m.pretty_print()"
   ]
  },
  {
   "cell_type": "code",
   "execution_count": 31,
   "id": "18f430c0-7006-4b96-90da-35e5369dd9ca",
   "metadata": {
    "height": 81
   },
   "outputs": [],
   "source": [
    "response = response_agent.invoke(\n",
    "    {\"messages\": [{\"role\": \"user\", \"content\": \"who is jim?\"}]},\n",
    "    config=config\n",
    ")"
   ]
  },
  {
   "cell_type": "code",
   "execution_count": 32,
   "id": "a47005aa-26d2-4606-afe8-ef0dffbda2a4",
   "metadata": {
    "height": 47
   },
   "outputs": [
    {
     "name": "stdout",
     "output_type": "stream",
     "text": [
      "================================\u001b[1m Human Message \u001b[0m=================================\n",
      "\n",
      "who is jim?\n",
      "==================================\u001b[1m Ai Message \u001b[0m==================================\n",
      "\n",
      "[{'text': 'Let me search through my memories to see if I have any information about Jim.', 'type': 'text'}, {'id': 'toolu_01DykP95zPgnmxTYx4LNmmFv', 'input': {'query': 'Jim'}, 'name': 'search_memory', 'type': 'tool_use'}]\n",
      "Tool Calls:\n",
      "  search_memory (toolu_01DykP95zPgnmxTYx4LNmmFv)\n",
      " Call ID: toolu_01DykP95zPgnmxTYx4LNmmFv\n",
      "  Args:\n",
      "    query: Jim\n",
      "=================================\u001b[1m Tool Message \u001b[0m=================================\n",
      "Name: search_memory\n",
      "\n",
      "[{\"namespace\": [\"email_assistant\", \"lance\", \"collection\"], \"key\": \"f129b2c3-235e-48cb-b1d4-4b52ecd700df\", \"value\": {\"content\": \"Jim is John Doe's friend.\"}, \"created_at\": \"2025-06-09T15:07:14.407767+00:00\", \"updated_at\": \"2025-06-09T15:07:14.407773+00:00\", \"score\": 0.3853109317618744}]\n",
      "==================================\u001b[1m Ai Message \u001b[0m==================================\n",
      "\n",
      "Based on my memory search, I can see that Jim is John Doe's friend. However, I don't seem to have much more detailed information about him in my records. If you'd like to provide more information about Jim that would be helpful for me to know and remember for future interactions, please feel free to share it.\n"
     ]
    }
   ],
   "source": [
    "for m in response[\"messages\"]:\n",
    "    m.pretty_print()"
   ]
  },
  {
   "cell_type": "code",
   "execution_count": 33,
   "id": "6c84e2dc-a843-4af7-bc31-2d60987c9a55",
   "metadata": {
    "height": 30
   },
   "outputs": [
    {
     "data": {
      "text/plain": [
       "[('email_assistant', 'lance', 'collection')]"
      ]
     },
     "execution_count": 33,
     "metadata": {},
     "output_type": "execute_result"
    }
   ],
   "source": [
    "store.list_namespaces()"
   ]
  },
  {
   "cell_type": "code",
   "execution_count": 34,
   "id": "71f43d74-b0ba-4a83-b00c-09e456f44f24",
   "metadata": {
    "height": 30
   },
   "outputs": [
    {
     "data": {
      "text/plain": [
       "[Item(namespace=['email_assistant', 'lance', 'collection'], key='f129b2c3-235e-48cb-b1d4-4b52ecd700df', value={'content': \"Jim is John Doe's friend.\"}, created_at='2025-06-09T15:07:14.407767+00:00', updated_at='2025-06-09T15:07:14.407773+00:00', score=None)]"
      ]
     },
     "execution_count": 34,
     "metadata": {},
     "output_type": "execute_result"
    }
   ],
   "source": [
    "store.search(('email_assistant', 'lance', 'collection'))"
   ]
  },
  {
   "cell_type": "code",
   "execution_count": 35,
   "id": "06e2555f-9cdc-447c-9bb6-07fc896878d5",
   "metadata": {
    "height": 45
   },
   "outputs": [
    {
     "data": {
      "text/plain": [
       "[Item(namespace=['email_assistant', 'lance', 'collection'], key='f129b2c3-235e-48cb-b1d4-4b52ecd700df', value={'content': \"Jim is John Doe's friend.\"}, created_at='2025-06-09T15:07:14.407767+00:00', updated_at='2025-06-09T15:07:14.407773+00:00', score=0.5012081618883384)]"
      ]
     },
     "execution_count": 35,
     "metadata": {},
     "output_type": "execute_result"
    }
   ],
   "source": [
    "store.search(('email_assistant', 'lance', 'collection'), query=\"jim\")"
   ]
  },
  {
   "cell_type": "markdown",
   "id": "ecafda1d-2d42-4614-b6cd-67b8b04d2109",
   "metadata": {},
   "source": [
    "## Create the rest of the agent"
   ]
  },
  {
   "cell_type": "code",
   "execution_count": 36,
   "id": "0258cd9f-587c-4317-86be-efdbfb390250",
   "metadata": {
    "height": 98
   },
   "outputs": [],
   "source": [
    "from langgraph.graph import add_messages\n",
    "\n",
    "class State(TypedDict):\n",
    "    email_input: dict\n",
    "    messages: Annotated[list, add_messages]"
   ]
  },
  {
   "cell_type": "code",
   "execution_count": 37,
   "id": "a592d0a8-7e7b-474b-a5a3-97d9ad1da9dd",
   "metadata": {
    "height": 81
   },
   "outputs": [],
   "source": [
    "from langgraph.graph import StateGraph, START, END\n",
    "from langgraph.types import Command\n",
    "from typing import Literal\n",
    "from IPython.display import Image, display"
   ]
  },
  {
   "cell_type": "code",
   "execution_count": 38,
   "id": "5ff4d1e6-b12b-460c-a0dc-5bb0416350db",
   "metadata": {
    "height": 912
   },
   "outputs": [],
   "source": [
    "def triage_router(state: State) -> Command[\n",
    "    Literal[\"response_agent\", \"__end__\"]\n",
    "]:\n",
    "    author = state['email_input']['author']\n",
    "    to = state['email_input']['to']\n",
    "    subject = state['email_input']['subject']\n",
    "    email_thread = state['email_input']['email_thread']\n",
    "\n",
    "    system_prompt = triage_system_prompt.format(\n",
    "        full_name=profile[\"full_name\"],\n",
    "        name=profile[\"name\"],\n",
    "        user_profile_background=profile[\"user_profile_background\"],\n",
    "        triage_no=prompt_instructions[\"triage_rules\"][\"ignore\"],\n",
    "        triage_notify=prompt_instructions[\"triage_rules\"][\"notify\"],\n",
    "        triage_email=prompt_instructions[\"triage_rules\"][\"respond\"],\n",
    "        examples=None\n",
    "    )\n",
    "    user_prompt = triage_user_prompt.format(\n",
    "        author=author, \n",
    "        to=to, \n",
    "        subject=subject, \n",
    "        email_thread=email_thread\n",
    "    )\n",
    "    result = llm_router.invoke(\n",
    "        [\n",
    "            {\"role\": \"system\", \"content\": system_prompt},\n",
    "            {\"role\": \"user\", \"content\": user_prompt},\n",
    "        ]\n",
    "    )\n",
    "    if result.classification == \"respond\":\n",
    "        print(\"📧 Classification: RESPOND - This email requires a response\")\n",
    "        goto = \"response_agent\"\n",
    "        update = {\n",
    "            \"messages\": [\n",
    "                {\n",
    "                    \"role\": \"user\",\n",
    "                    \"content\": f\"Respond to the email {state['email_input']}\",\n",
    "                }\n",
    "            ]\n",
    "        }\n",
    "    elif result.classification == \"ignore\":\n",
    "        print(\"🚫 Classification: IGNORE - This email can be safely ignored\")\n",
    "        update = None\n",
    "        goto = END\n",
    "    elif result.classification == \"notify\":\n",
    "        # If real life, this would do something else\n",
    "        print(\"🔔 Classification: NOTIFY - This email contains important information\")\n",
    "        update = None\n",
    "        goto = END\n",
    "    else:\n",
    "        raise ValueError(f\"Invalid classification: {result.classification}\")\n",
    "    return Command(goto=goto, update=update)"
   ]
  },
  {
   "cell_type": "markdown",
   "id": "6d2e9e15-8db3-4c26-a27a-de886c87fb22",
   "metadata": {},
   "source": [
    "## Create email agent"
   ]
  },
  {
   "cell_type": "code",
   "execution_count": 39,
   "id": "ff4a5658-943f-4676-a3a4-a86a9c5ad69a",
   "metadata": {
    "height": 113
   },
   "outputs": [],
   "source": [
    "email_agent = StateGraph(State)\n",
    "email_agent = email_agent.add_node(triage_router)\n",
    "email_agent = email_agent.add_node(\"response_agent\", response_agent)\n",
    "email_agent = email_agent.add_edge(START, \"triage_router\")\n",
    "email_agent = email_agent.compile(store=store)"
   ]
  },
  {
   "cell_type": "code",
   "execution_count": 40,
   "id": "1f41d425-6a2a-47d0-8099-b10de68fca77",
   "metadata": {
    "height": 45
   },
   "outputs": [
    {
     "data": {
      "image/png": "[encoded data removed]",
      "text/plain": [
       "<IPython.core.display.Image object>"
      ]
     },
     "metadata": {},
     "output_type": "display_data"
    }
   ],
   "source": [
    "display(Image(email_agent.get_graph(xray=True).draw_mermaid_png()))"
   ]
  },
  {
   "cell_type": "code",
   "execution_count": 41,
   "id": "b01a744b-10d8-4656-9e95-14a60534a45b",
   "metadata": {
    "height": 283
   },
   "outputs": [],
   "source": [
    "email_input = {\n",
    "    \"author\": \"Alice Smith <alice.smith@company.com>\",\n",
    "    \"to\": \"John Doe <john.doe@company.com>\",\n",
    "    \"subject\": \"Quick question about API documentation\",\n",
    "    \"email_thread\": \"\"\"Hi John,\n",
    "\n",
    "I was reviewing the API documentation for the new authentication service and noticed a few endpoints seem to be missing from the specs. Could you help clarify if this was intentional or if we should update the docs?\n",
    "\n",
    "Specifically, I'm looking at:\n",
    "- /auth/refresh\n",
    "- /auth/validate\n",
    "\n",
    "Thanks!\n",
    "Alice\"\"\",\n",
    "}"
   ]
  },
  {
   "cell_type": "code",
   "execution_count": 42,
   "id": "9d09d904-7d9d-4e00-be6c-5fe612d92651",
   "metadata": {
    "height": 81
   },
   "outputs": [
    {
     "name": "stdout",
     "output_type": "stream",
     "text": [
      "📧 Classification: RESPOND - This email requires a response\n"
     ]
    }
   ],
   "source": [
    "response = email_agent.invoke(\n",
    "    {\"email_input\": email_input},\n",
    "    config=config\n",
    ")"
   ]
  },
  {
   "cell_type": "code",
   "execution_count": 43,
   "id": "be9d27b6-17d8-4221-878a-9ae7b01a9b64",
   "metadata": {
    "height": 47
   },
   "outputs": [
    {
     "name": "stdout",
     "output_type": "stream",
     "text": [
      "================================\u001b[1m Human Message \u001b[0m=================================\n",
      "\n",
      "Respond to the email {'author': 'Alice Smith <alice.smith@company.com>', 'to': 'John Doe <john.doe@company.com>', 'subject': 'Quick question about API documentation', 'email_thread': \"Hi John,\\n\\nI was reviewing the API documentation for the new authentication service and noticed a few endpoints seem to be missing from the specs. Could you help clarify if this was intentional or if we should update the docs?\\n\\nSpecifically, I'm looking at:\\n- /auth/refresh\\n- /auth/validate\\n\\nThanks!\\nAlice\"}\n",
      "==================================\u001b[1m Ai Message \u001b[0m==================================\n",
      "\n",
      "[{'text': \"I'll help craft a professional response to Alice regarding the API documentation questions. I'll use the write_email function to send the response, and I'll maintain the email thread context by replying to the same subject.\", 'type': 'text'}, {'id': 'toolu_01RAgFJoqdpHah138cDfwW5D', 'input': {'to': 'alice.smith@company.com', 'subject': 'Re: Quick question about API documentation', 'content': \"Hi Alice,\\n\\nThank you for bringing this to John's attention. I am John's assistant, and I'll make sure he reviews these specific endpoints you've mentioned (/auth/refresh and /auth/validate) in the API documentation.\\n\\nJohn will get back to you with a detailed clarification about whether these endpoints were intentionally omitted or if the documentation needs to be updated.\\n\\nIn the meantime, would you be able to share which version of the documentation you're reviewing? This will help John provide more accurate information.\\n\\nBest regards,\\nOn behalf of John Doe\"}, 'name': 'write_email', 'type': 'tool_use'}]\n",
      "Tool Calls:\n",
      "  write_email (toolu_01RAgFJoqdpHah138cDfwW5D)\n",
      " Call ID: toolu_01RAgFJoqdpHah138cDfwW5D\n",
      "  Args:\n",
      "    to: alice.smith@company.com\n",
      "    subject: Re: Quick question about API documentation\n",
      "    content: Hi Alice,\n",
      "\n",
      "Thank you for bringing this to John's attention. I am John's assistant, and I'll make sure he reviews these specific endpoints you've mentioned (/auth/refresh and /auth/validate) in the API documentation.\n",
      "\n",
      "John will get back to you with a detailed clarification about whether these endpoints were intentionally omitted or if the documentation needs to be updated.\n",
      "\n",
      "In the meantime, would you be able to share which version of the documentation you're reviewing? This will help John provide more accurate information.\n",
      "\n",
      "Best regards,\n",
      "On behalf of John Doe\n",
      "=================================\u001b[1m Tool Message \u001b[0m=================================\n",
      "Name: write_email\n",
      "\n",
      "Email sent to alice.smith@company.com with subject 'Re: Quick question about API documentation'\n",
      "==================================\u001b[1m Ai Message \u001b[0m==================================\n",
      "\n",
      "[{'text': \"I've sent a professional interim response to Alice that:\\n1. Acknowledges her concern about the missing endpoints\\n2. Confirms that John will review the specific items she mentioned\\n3. Asks for additional information (documentation version) to help provide a more accurate response\\n4. Sets the expectation that John will follow up with details\\n\\nLet me also store this interaction in memory for future reference:\", 'type': 'text'}, {'id': 'toolu_017JpGEQNaqY5noWMhcePLZV', 'input': {'action': 'create', 'content': 'Alice Smith (alice.smith@company.com) inquired about missing endpoints (/auth/refresh and /auth/validate) in the API documentation for the authentication service. Follow-up needed from John regarding whether these endpoints were intentionally omitted. Date: [current_date]'}, 'name': 'manage_memory', 'type': 'tool_use'}]\n",
      "Tool Calls:\n",
      "  manage_memory (toolu_017JpGEQNaqY5noWMhcePLZV)\n",
      " Call ID: toolu_017JpGEQNaqY5noWMhcePLZV\n",
      "  Args:\n",
      "    action: create\n",
      "    content: Alice Smith (alice.smith@company.com) inquired about missing endpoints (/auth/refresh and /auth/validate) in the API documentation for the authentication service. Follow-up needed from John regarding whether these endpoints were intentionally omitted. Date: [current_date]\n",
      "=================================\u001b[1m Tool Message \u001b[0m=================================\n",
      "Name: manage_memory\n",
      "\n",
      "created memory 726bf261-521c-4a3d-98ae-4900db492070\n",
      "==================================\u001b[1m Ai Message \u001b[0m==================================\n",
      "\n",
      "Would you like me to schedule a follow-up meeting between John and Alice to discuss these API documentation concerns in detail?\n"
     ]
    }
   ],
   "source": [
    "for m in response[\"messages\"]:\n",
    "    m.pretty_print()"
   ]
  },
  {
   "cell_type": "markdown",
   "id": "f267dcc4-3380-4ad6-b331-136c5c3b6f86",
   "metadata": {},
   "source": [
    "## Try a follow-up email"
   ]
  },
  {
   "cell_type": "code",
   "execution_count": 44,
   "id": "d410d7c5-1ad7-46e1-9de3-e8f4678a49e1",
   "metadata": {
    "height": 149
   },
   "outputs": [],
   "source": [
    "email_input = {\n",
    "    \"author\": \"Alice Smith <alice.smith@company.com>\",\n",
    "    \"to\": \"John Doe <john.doe@company.com>\",\n",
    "    \"subject\": \"Follow up\",\n",
    "    \"email_thread\": \"\"\"Hi John,\n",
    "\n",
    "Any update on my previous ask?\"\"\",\n",
    "}"
   ]
  },
  {
   "cell_type": "code",
   "execution_count": 45,
   "id": "de137044-44b6-4a55-b74e-9ceb68af8313",
   "metadata": {
    "height": 45
   },
   "outputs": [
    {
     "name": "stdout",
     "output_type": "stream",
     "text": [
      "📧 Classification: RESPOND - This email requires a response\n"
     ]
    }
   ],
   "source": [
    "response = email_agent.invoke({\"email_input\": email_input}, config=config)"
   ]
  },
  {
   "cell_type": "code",
   "execution_count": 46,
   "id": "398e7ff0-5703-44ff-8c77-6262f2c03850",
   "metadata": {
    "height": 47
   },
   "outputs": [
    {
     "name": "stdout",
     "output_type": "stream",
     "text": [
      "================================\u001b[1m Human Message \u001b[0m=================================\n",
      "\n",
      "Respond to the email {'author': 'Alice Smith <alice.smith@company.com>', 'to': 'John Doe <john.doe@company.com>', 'subject': 'Follow up', 'email_thread': 'Hi John,\\n\\nAny update on my previous ask?'}\n",
      "==================================\u001b[1m Ai Message \u001b[0m==================================\n",
      "\n",
      "[{'text': \"I'll help compose a polite response to Alice's follow-up email. However, I should first check if we have any context about her previous request stored in our memory.\", 'type': 'text'}, {'id': 'toolu_01ETQj1eZ6Pd8DtQPVeyMDfc', 'input': {'query': 'Alice Smith previous ask request'}, 'name': 'search_memory', 'type': 'tool_use'}]\n",
      "Tool Calls:\n",
      "  search_memory (toolu_01ETQj1eZ6Pd8DtQPVeyMDfc)\n",
      " Call ID: toolu_01ETQj1eZ6Pd8DtQPVeyMDfc\n",
      "  Args:\n",
      "    query: Alice Smith previous ask request\n",
      "=================================\u001b[1m Tool Message \u001b[0m=================================\n",
      "Name: search_memory\n",
      "\n",
      "[{\"namespace\": [\"email_assistant\", \"lance\", \"collection\"], \"key\": \"726bf261-521c-4a3d-98ae-4900db492070\", \"value\": {\"content\": \"Alice Smith (alice.smith@company.com) inquired about missing endpoints (/auth/refresh and /auth/validate) in the API documentation for the authentication service. Follow-up needed from John regarding whether these endpoints were intentionally omitted. Date: [current_date]\"}, \"created_at\": \"2025-06-09T15:07:38.510653+00:00\", \"updated_at\": \"2025-06-09T15:07:38.510656+00:00\", \"score\": 0.4265878880047652}, {\"namespace\": [\"email_assistant\", \"lance\", \"collection\"], \"key\": \"f129b2c3-235e-48cb-b1d4-4b52ecd700df\", \"value\": {\"content\": \"Jim is John Doe's friend.\"}, \"created_at\": \"2025-06-09T15:07:14.407767+00:00\", \"updated_at\": \"2025-06-09T15:07:14.407773+00:00\", \"score\": 0.22986153350959496}]\n",
      "==================================\u001b[1m Ai Message \u001b[0m==================================\n",
      "\n",
      "[{'text': \"Based on the memory search, I can see that Alice previously inquired about missing endpoints in the API documentation. I'll compose a response acknowledging her follow-up and promising to get back to her soon.\", 'type': 'text'}, {'id': 'toolu_01Sh7F9XmWj4tYTEdESRME7x', 'input': {'to': 'alice.smith@company.com', 'subject': 'Re: Follow up', 'content': \"Hi Alice,\\n\\nThank you for following up. I apologize for the delay in responding to your inquiry about the missing API endpoints (/auth/refresh and /auth/validate) in the documentation. I'll check on the status of this and get back to you with a complete update by the end of the day.\\n\\nBest regards,\\nJohn\"}, 'name': 'write_email', 'type': 'tool_use'}]\n",
      "Tool Calls:\n",
      "  write_email (toolu_01Sh7F9XmWj4tYTEdESRME7x)\n",
      " Call ID: toolu_01Sh7F9XmWj4tYTEdESRME7x\n",
      "  Args:\n",
      "    to: alice.smith@company.com\n",
      "    subject: Re: Follow up\n",
      "    content: Hi Alice,\n",
      "\n",
      "Thank you for following up. I apologize for the delay in responding to your inquiry about the missing API endpoints (/auth/refresh and /auth/validate) in the documentation. I'll check on the status of this and get back to you with a complete update by the end of the day.\n",
      "\n",
      "Best regards,\n",
      "John\n",
      "=================================\u001b[1m Tool Message \u001b[0m=================================\n",
      "Name: write_email\n",
      "\n",
      "Email sent to alice.smith@company.com with subject 'Re: Follow up'\n",
      "==================================\u001b[1m Ai Message \u001b[0m==================================\n",
      "\n",
      "I've sent a professional response that:\n",
      "1. Acknowledges her follow-up\n",
      "2. References the specific previous request (based on the context from memory)\n",
      "3. Promises a timeline for a proper response\n",
      "4. Maintains a professional tone\n",
      "\n",
      "Would you like me to schedule a reminder or take any additional actions regarding this follow-up?\n"
     ]
    }
   ],
   "source": [
    "for m in response[\"messages\"]:\n",
    "    m.pretty_print()"
   ]
  },
  {
   "cell_type": "code",
   "execution_count": null,
   "id": "5386f9e5-b6f3-4d59-82d2-1f922f0b0683",
   "metadata": {
    "height": 30
   },
   "outputs": [],
   "source": []
  },
  {
   "cell_type": "code",
   "execution_count": null,
   "id": "d1f40cd4-389e-4eff-85b2-b053f43e1a4c",
   "metadata": {
    "height": 30
   },
   "outputs": [],
   "source": []
  },
  {
   "cell_type": "code",
   "execution_count": null,
   "id": "3ad4ac5a-fe9f-4579-99b4-47482716954f",
   "metadata": {
    "height": 30
   },
   "outputs": [],
   "source": []
  },
  {
   "cell_type": "code",
   "execution_count": null,
   "id": "2155c708-f1ea-460e-8b30-1e196e54c7ee",
   "metadata": {
    "height": 30
   },
   "outputs": [],
   "source": []
  },
  {
   "cell_type": "code",
   "execution_count": null,
   "id": "a4bdb6d3-4dff-4f4d-9689-4e431a045d5f",
   "metadata": {
    "height": 30
   },
   "outputs": [],
   "source": []
  },
  {
   "cell_type": "code",
   "execution_count": null,
   "id": "1b455a94-aa32-4f8a-bbc6-e52fa4020c00",
   "metadata": {
    "height": 30
   },
   "outputs": [],
   "source": []
  },
  {
   "cell_type": "code",
   "execution_count": null,
   "id": "fc88583e-48ed-41e2-81fa-4e7c4b340d55",
   "metadata": {
    "height": 30
   },
   "outputs": [],
   "source": []
  },
  {
   "cell_type": "code",
   "execution_count": null,
   "id": "f07c3192-c315-4406-8ddf-6d093adae524",
   "metadata": {
    "height": 30
   },
   "outputs": [],
   "source": []
  },
  {
   "cell_type": "code",
   "execution_count": null,
   "id": "88eec750-90e7-47ab-9c62-5c297bee94a4",
   "metadata": {
    "height": 30
   },
   "outputs": [],
   "source": []
  },
  {
   "cell_type": "code",
   "execution_count": null,
   "id": "569ec85e-e0f8-4352-b50d-736bd6f18389",
   "metadata": {
    "height": 30
   },
   "outputs": [],
   "source": []
  },
  {
   "cell_type": "code",
   "execution_count": null,
   "id": "adcc2530-e1c2-4dde-8289-fbc0f5800681",
   "metadata": {
    "height": 30
   },
   "outputs": [],
   "source": []
  },
  {
   "cell_type": "code",
   "execution_count": null,
   "id": "4b1ac286-697e-4ae9-ba70-f974edd54bba",
   "metadata": {
    "height": 30
   },
   "outputs": [],
   "source": []
  },
  {
   "cell_type": "code",
   "execution_count": null,
   "id": "2b399f59-4aa9-48d4-ab82-33464aae21cf",
   "metadata": {
    "height": 30
   },
   "outputs": [],
   "source": []
  },
  {
   "cell_type": "code",
   "execution_count": null,
   "id": "1180c54c-4ac3-4e4c-8969-9b4cbdf2aa4e",
   "metadata": {
    "height": 30
   },
   "outputs": [],
   "source": []
  },
  {
   "cell_type": "code",
   "execution_count": null,
   "id": "45b3ea04-99fc-4aa4-a34a-420083d57787",
   "metadata": {
    "height": 30
   },
   "outputs": [],
   "source": []
  },
  {
   "cell_type": "code",
   "execution_count": null,
   "id": "c1592128-57e6-4c89-b6e3-70dcbc862824",
   "metadata": {
    "height": 30
   },
   "outputs": [],
   "source": []
  },
  {
   "cell_type": "code",
   "execution_count": null,
   "id": "74ad912e-a3ae-40de-99a3-df000f4e7be7",
   "metadata": {
    "height": 30
   },
   "outputs": [],
   "source": []
  },
  {
   "cell_type": "code",
   "execution_count": null,
   "id": "a921ad32-d14d-48ea-922e-f63f973a637f",
   "metadata": {
    "height": 30
   },
   "outputs": [],
   "source": []
  },
  {
   "cell_type": "code",
   "execution_count": null,
   "id": "fa2a6f86-7af7-4fab-9529-20cbcd741052",
   "metadata": {
    "height": 30
   },
   "outputs": [],
   "source": []
  },
  {
   "cell_type": "code",
   "execution_count": null,
   "id": "232b7acc-ca34-418b-b668-eec3344c53fe",
   "metadata": {
    "height": 30
   },
   "outputs": [],
   "source": []
  },
  {
   "cell_type": "code",
   "execution_count": null,
   "id": "c26b2385-07a3-4a95-9e81-3bf6d86b9146",
   "metadata": {
    "height": 30
   },
   "outputs": [],
   "source": []
  },
  {
   "cell_type": "code",
   "execution_count": null,
   "id": "de8a3fa1-c43b-4bce-b09a-e7dd232c039f",
   "metadata": {
    "height": 30
   },
   "outputs": [],
   "source": []
  },
  {
   "cell_type": "code",
   "execution_count": null,
   "id": "c2b49b7d-3e44-4a2f-8aa5-fbf3866f8df7",
   "metadata": {
    "height": 30
   },
   "outputs": [],
   "source": []
  },
  {
   "cell_type": "code",
   "execution_count": null,
   "id": "01048577-96c1-4632-9dd2-046a7bd3f27d",
   "metadata": {
    "height": 30
   },
   "outputs": [],
   "source": []
  },
  {
   "cell_type": "code",
   "execution_count": null,
   "id": "a2c6dbda-dedb-4460-a9b1-d59aff490b5a",
   "metadata": {
    "height": 30
   },
   "outputs": [],
   "source": []
  },
  {
   "cell_type": "code",
   "execution_count": null,
   "id": "8897d8a5-f9b4-4c87-8238-8d16558eea24",
   "metadata": {
    "height": 30
   },
   "outputs": [],
   "source": []
  },
  {
   "cell_type": "code",
   "execution_count": null,
   "id": "dcb7e6de-491a-496a-8111-68794208fcc0",
   "metadata": {
    "height": 30
   },
   "outputs": [],
   "source": []
  },
  {
   "cell_type": "code",
   "execution_count": null,
   "id": "0b68650b-b8b1-4017-b9ee-d1894a9cc3f6",
   "metadata": {
    "height": 30
   },
   "outputs": [],
   "source": []
  },
  {
   "cell_type": "code",
   "execution_count": null,
   "id": "f2e9ac56-4cf8-48d4-bcb2-94b436b2c44f",
   "metadata": {
    "height": 30
   },
   "outputs": [],
   "source": []
  },
  {
   "cell_type": "code",
   "execution_count": null,
   "id": "a1dbe96c-b1a9-40c6-8fb5-0ed084b9440c",
   "metadata": {
    "height": 30
   },
   "outputs": [],
   "source": []
  },
  {
   "cell_type": "code",
   "execution_count": null,
   "id": "5bab3f65-72bd-48ac-a39b-bf7dbedab60c",
   "metadata": {
    "height": 30
   },
   "outputs": [],
   "source": []
  },
  {
   "cell_type": "code",
   "execution_count": null,
   "id": "5e794703-bebd-455f-9ca7-e1b0b22f8ac2",
   "metadata": {
    "height": 30
   },
   "outputs": [],
   "source": []
  },
  {
   "cell_type": "code",
   "execution_count": null,
   "id": "783b2e1d-31a2-4298-9d7e-00a0f169a9c9",
   "metadata": {
    "height": 30
   },
   "outputs": [],
   "source": []
  },
  {
   "cell_type": "code",
   "execution_count": null,
   "id": "fdf602f9-1682-43a1-bea2-eff9e90a945b",
   "metadata": {
    "height": 30
   },
   "outputs": [],
   "source": []
  },
  {
   "cell_type": "code",
   "execution_count": null,
   "id": "51b89c38-37e9-4da4-9d29-eae89f100c07",
   "metadata": {
    "height": 30
   },
   "outputs": [],
   "source": []
  },
  {
   "cell_type": "code",
   "execution_count": null,
   "id": "d181baab-ac38-491b-a529-fe060a4a4ffa",
   "metadata": {
    "height": 30
   },
   "outputs": [],
   "source": []
  },
  {
   "cell_type": "code",
   "execution_count": null,
   "id": "953c1e40-ab24-4103-af3d-ad7e2aff248b",
   "metadata": {
    "height": 30
   },
   "outputs": [],
   "source": []
  },
  {
   "cell_type": "code",
   "execution_count": null,
   "id": "12a5811e-254c-4169-9129-3d638fa19f89",
   "metadata": {
    "height": 30
   },
   "outputs": [],
   "source": []
  },
  {
   "cell_type": "code",
   "execution_count": null,
   "id": "4d80cb65-6208-48dd-b5e7-9973ed0a46e6",
   "metadata": {
    "height": 30
   },
   "outputs": [],
   "source": []
  },
  {
   "cell_type": "code",
   "execution_count": null,
   "id": "6df66814-b3dd-46f0-83b9-7ad33a1e36ed",
   "metadata": {
    "height": 30
   },
   "outputs": [],
   "source": []
  },
  {
   "cell_type": "code",
   "execution_count": null,
   "id": "081dceab-c322-4ea4-8a40-04a3223112ea",
   "metadata": {
    "height": 30
   },
   "outputs": [],
   "source": []
  },
  {
   "cell_type": "code",
   "execution_count": null,
   "id": "cbdf790c-9c40-4b05-b276-45f2c813be3f",
   "metadata": {
    "height": 30
   },
   "outputs": [],
   "source": []
  },
  {
   "cell_type": "code",
   "execution_count": null,
   "id": "fcf592bd-b2ae-4458-9ddf-5fb053757a20",
   "metadata": {
    "height": 30
   },
   "outputs": [],
   "source": []
  },
  {
   "cell_type": "code",
   "execution_count": null,
   "id": "8aa65f1d-78be-4a33-93c0-856273e44999",
   "metadata": {
    "height": 30
   },
   "outputs": [],
   "source": []
  },
  {
   "cell_type": "code",
   "execution_count": null,
   "id": "aec1578e-cd78-41b9-b0f8-abbe7ae33c9d",
   "metadata": {
    "height": 30
   },
   "outputs": [],
   "source": []
  },
  {
   "cell_type": "code",
   "execution_count": null,
   "id": "8797ca99-356b-4e77-ab99-2c3264606c14",
   "metadata": {
    "height": 30
   },
   "outputs": [],
   "source": []
  },
  {
   "cell_type": "code",
   "execution_count": null,
   "id": "be23f626-ad83-4ed1-bb19-6718f614e7e6",
   "metadata": {
    "height": 30
   },
   "outputs": [],
   "source": []
  },
  {
   "cell_type": "code",
   "execution_count": null,
   "id": "d8551495-b24c-4be0-aacd-91048eeed199",
   "metadata": {
    "height": 30
   },
   "outputs": [],
   "source": []
  },
  {
   "cell_type": "code",
   "execution_count": null,
   "id": "b4c117df-21ed-4e16-abe0-12826fe6a452",
   "metadata": {
    "height": 30
   },
   "outputs": [],
   "source": []
  },
  {
   "cell_type": "code",
   "execution_count": null,
   "id": "2a3cdc79-e582-4ef8-97bc-089faba1a256",
   "metadata": {
    "height": 30
   },
   "outputs": [],
   "source": []
  },
  {
   "cell_type": "code",
   "execution_count": null,
   "id": "7a37aa57-81fd-4fa0-a023-63509fe5c96f",
   "metadata": {
    "height": 30
   },
   "outputs": [],
   "source": []
  },
  {
   "cell_type": "code",
   "execution_count": null,
   "id": "ff6b788b-e1d9-4a4e-852a-a80b75d32810",
   "metadata": {
    "height": 30
   },
   "outputs": [],
   "source": []
  },
  {
   "cell_type": "code",
   "execution_count": null,
   "id": "a78b6f10-d4eb-433f-8b22-15d1091204ae",
   "metadata": {
    "height": 30
   },
   "outputs": [],
   "source": []
  },
  {
   "cell_type": "code",
   "execution_count": null,
   "id": "266f4bc0-4d41-49a4-8d27-6ef6328b47ab",
   "metadata": {
    "height": 30
   },
   "outputs": [],
   "source": []
  },
  {
   "cell_type": "code",
   "execution_count": null,
   "id": "96a0f681-40e8-4253-a779-05954bf4c776",
   "metadata": {
    "height": 30
   },
   "outputs": [],
   "source": []
  },
  {
   "cell_type": "code",
   "execution_count": null,
   "id": "e9a8ccc0-b429-4001-8ab5-f4c4b706ec01",
   "metadata": {
    "height": 30
   },
   "outputs": [],
   "source": []
  },
  {
   "cell_type": "code",
   "execution_count": null,
   "id": "92bef0aa-0069-4a17-9a4f-b9953b9842be",
   "metadata": {
    "height": 30
   },
   "outputs": [],
   "source": []
  },
  {
   "cell_type": "code",
   "execution_count": null,
   "id": "2662fc9e-4d00-44e5-8273-c2d72a40f33c",
   "metadata": {
    "height": 30
   },
   "outputs": [],
   "source": []
  },
  {
   "cell_type": "code",
   "execution_count": null,
   "id": "2b4f0e02-a195-4547-a9c2-22418b2b20e5",
   "metadata": {
    "height": 30
   },
   "outputs": [],
   "source": []
  },
  {
   "cell_type": "code",
   "execution_count": null,
   "id": "3a2fb916-5aa9-42d5-a8a3-cd2949b92e04",
   "metadata": {
    "height": 30
   },
   "outputs": [],
   "source": []
  },
  {
   "cell_type": "code",
   "execution_count": null,
   "id": "a7516ac1-c59d-4d10-8cf4-a1ec4f155165",
   "metadata": {
    "height": 30
   },
   "outputs": [],
   "source": []
  },
  {
   "cell_type": "code",
   "execution_count": null,
   "id": "6843e8a4-56df-439b-9151-6e15fab75965",
   "metadata": {
    "height": 30
   },
   "outputs": [],
   "source": []
  },
  {
   "cell_type": "code",
   "execution_count": null,
   "id": "3e54ad7f-516b-485d-b1b2-1c4905d0bfdc",
   "metadata": {
    "height": 30
   },
   "outputs": [],
   "source": []
  },
  {
   "cell_type": "code",
   "execution_count": null,
   "id": "07c7f135-dfb3-414b-a549-9f461c06a703",
   "metadata": {
    "height": 30
   },
   "outputs": [],
   "source": []
  },
  {
   "cell_type": "code",
   "execution_count": null,
   "id": "3a3a0599-46c2-4604-9a36-364cb04e0d1e",
   "metadata": {
    "height": 30
   },
   "outputs": [],
   "source": []
  },
  {
   "cell_type": "code",
   "execution_count": null,
   "id": "ef9bebf1-64aa-49c6-b051-e5d96666a216",
   "metadata": {
    "height": 30
   },
   "outputs": [],
   "source": []
  },
  {
   "cell_type": "code",
   "execution_count": null,
   "id": "8ce49046-114d-4172-902f-eaaac6a7e11d",
   "metadata": {
    "height": 30
   },
   "outputs": [],
   "source": []
  },
  {
   "cell_type": "code",
   "execution_count": null,
   "id": "50d75953-c188-4947-a2fb-5ec2981443c7",
   "metadata": {
    "height": 30
   },
   "outputs": [],
   "source": []
  },
  {
   "cell_type": "code",
   "execution_count": null,
   "id": "5e0c7c38-7a4c-4554-bc1a-7cfc70bddac0",
   "metadata": {
    "height": 30
   },
   "outputs": [],
   "source": []
  },
  {
   "cell_type": "code",
   "execution_count": null,
   "id": "dcbca71a-09be-4d46-bf68-1ea316e55a54",
   "metadata": {
    "height": 30
   },
   "outputs": [],
   "source": []
  },
  {
   "cell_type": "code",
   "execution_count": null,
   "id": "81bf34d4-f63d-413b-8ef6-56e8136d0a20",
   "metadata": {
    "height": 30
   },
   "outputs": [],
   "source": []
  },
  {
   "cell_type": "code",
   "execution_count": null,
   "id": "9431e78d-494b-447a-a86a-7b804b7ea154",
   "metadata": {
    "height": 30
   },
   "outputs": [],
   "source": []
  },
  {
   "cell_type": "code",
   "execution_count": null,
   "id": "8e9965b6-6542-45e2-aa59-2f60ed74b895",
   "metadata": {
    "height": 30
   },
   "outputs": [],
   "source": []
  },
  {
   "cell_type": "code",
   "execution_count": null,
   "id": "1bf308b2-79e6-4bd7-9e42-67bba4e89ad6",
   "metadata": {
    "height": 30
   },
   "outputs": [],
   "source": []
  },
  {
   "cell_type": "code",
   "execution_count": null,
   "id": "f5eccb4b-7169-4a6a-b1d6-5cca79577595",
   "metadata": {
    "height": 30
   },
   "outputs": [],
   "source": []
  },
  {
   "cell_type": "code",
   "execution_count": null,
   "id": "34e16ac0-a6d3-46a2-9fd2-7531f46d1bc4",
   "metadata": {
    "height": 30
   },
   "outputs": [],
   "source": []
  },
  {
   "cell_type": "code",
   "execution_count": null,
   "id": "cc2f192c-831e-47c9-9c3c-baa7d86ddb4b",
   "metadata": {
    "height": 30
   },
   "outputs": [],
   "source": []
  },
  {
   "cell_type": "code",
   "execution_count": null,
   "id": "2f2de900-9e65-4b7f-b195-ffce6840752f",
   "metadata": {
    "height": 30
   },
   "outputs": [],
   "source": []
  },
  {
   "cell_type": "code",
   "execution_count": null,
   "id": "c6d5d267-f3ec-4a97-b5e3-c0922199136d",
   "metadata": {
    "height": 30
   },
   "outputs": [],
   "source": []
  },
  {
   "cell_type": "code",
   "execution_count": null,
   "id": "f7d86402-6290-4fd4-b334-37c77d2fe6a8",
   "metadata": {
    "height": 30
   },
   "outputs": [],
   "source": []
  },
  {
   "cell_type": "code",
   "execution_count": null,
   "id": "bb74e171-6682-4330-a9b9-a270e8dc843b",
   "metadata": {
    "height": 30
   },
   "outputs": [],
   "source": []
  },
  {
   "cell_type": "code",
   "execution_count": null,
   "id": "c6efe8e1-945b-4eba-a9a1-def69477feef",
   "metadata": {
    "height": 30
   },
   "outputs": [],
   "source": []
  },
  {
   "cell_type": "code",
   "execution_count": null,
   "id": "eda4c439-e717-412d-a935-c04e92433f21",
   "metadata": {
    "height": 30
   },
   "outputs": [],
   "source": []
  }
 ],
 "metadata": {
  "kernelspec": {
   "display_name": "Python 3 (ipykernel)",
   "language": "python",
   "name": "python3"
  },
  "language_info": {
   "codemirror_mode": {
    "name": "ipython",
    "version": 3
   },
   "file_extension": ".py",
   "mimetype": "text/x-python",
   "name": "python",
   "nbconvert_exporter": "python",
   "pygments_lexer": "ipython3",
   "version": "3.12.5"
  }
 },
 "nbformat": 4,
 "nbformat_minor": 5
}
